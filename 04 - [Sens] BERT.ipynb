{
 "cells": [
  {
   "cell_type": "markdown",
   "metadata": {
    "id": "I3W6ANv3RCzE"
   },
   "source": [
    "# BERT on Sensitag\n",
    "Use BERT on 2 datasets:\n",
    "1. agreement of at least 2 annotators;\n",
    "2. agreement of 3 annotators.\n",
    "\n",
    "Test the model also on the 10 samples of twitter-whisperer dataset\n"
   ]
  },
  {
   "cell_type": "markdown",
   "metadata": {
    "id": "nM8zNZNJP6Gk"
   },
   "source": [
    "## Set the variables"
   ]
  },
  {
   "cell_type": "code",
   "execution_count": 1,
   "metadata": {
    "executionInfo": {
     "elapsed": 958,
     "status": "ok",
     "timestamp": 1615838773093,
     "user": {
      "displayName": "Livio Bioglio",
      "photoUrl": "https://lh3.googleusercontent.com/a-/AOh14GiwMdoiTEqY0ghbXy43TVUuBdAFmuLV0G_5FOl6=s64",
      "userId": "15794955782072516856"
     },
     "user_tz": -60
    },
    "id": "0ukFCfd27Fza"
   },
   "outputs": [],
   "source": [
    "# directories\n",
    "main_path = \"/content/drive/MyDrive/Colab Notebooks/\"\n",
    "data_path = main_path+\"data/\"\n",
    "results_path = main_path+\"results/\"\n",
    "models_path = main_path+\"models/\"\n",
    "dataset_our_filename = \"annotation_results__ann\"\n",
    "dataset_wt_filename = \"sample_ann2_\"\n",
    "\n",
    "# classes\n",
    "Y_feat_names = [\"ns\", \"sens\"]"
   ]
  },
  {
   "cell_type": "markdown",
   "metadata": {
    "id": "0TkVaLAaX7f7"
   },
   "source": [
    "## Import libraries"
   ]
  },
  {
   "cell_type": "code",
   "execution_count": null,
   "metadata": {
    "id": "hQ474pWuFi5e"
   },
   "outputs": [],
   "source": [
    "# install ktrain on Google Colab\n",
    "!pip3 install ktrain\n",
    "\n",
    "## for explaination\n",
    "#!pip3 install git+https://github.com/amaiya/eli5@tfkeras_0_10_1"
   ]
  },
  {
   "cell_type": "code",
   "execution_count": 3,
   "metadata": {
    "colab": {
     "base_uri": "https://localhost:8080/"
    },
    "executionInfo": {
     "elapsed": 23589,
     "status": "ok",
     "timestamp": 1615838861855,
     "user": {
      "displayName": "Livio Bioglio",
      "photoUrl": "https://lh3.googleusercontent.com/a-/AOh14GiwMdoiTEqY0ghbXy43TVUuBdAFmuLV0G_5FOl6=s64",
      "userId": "15794955782072516856"
     },
     "user_tz": -60
    },
    "id": "bADf1bkpzCyq",
    "outputId": "55200876-b633-4913-b798-608b64d635cf"
   },
   "outputs": [
    {
     "name": "stdout",
     "output_type": "stream",
     "text": [
      "Mounted at /content/drive\n"
     ]
    }
   ],
   "source": [
    "# mount Google drive\n",
    "from google.colab import drive\n",
    "drive.mount('/content/drive')\n",
    "\n",
    "# import modules in local directory\n",
    "import sys\n",
    "sys.path.append(main_path+'/lib')"
   ]
  },
  {
   "cell_type": "code",
   "execution_count": 5,
   "metadata": {
    "executionInfo": {
     "elapsed": 446,
     "status": "ok",
     "timestamp": 1615838932242,
     "user": {
      "displayName": "Livio Bioglio",
      "photoUrl": "https://lh3.googleusercontent.com/a-/AOh14GiwMdoiTEqY0ghbXy43TVUuBdAFmuLV0G_5FOl6=s64",
      "userId": "15794955782072516856"
     },
     "user_tz": -60
    },
    "id": "Y8hIFvooF4vc"
   },
   "outputs": [],
   "source": [
    "# import ktrain and the ktrain.text modules\n",
    "import ktrain\n",
    "from ktrain import text\n",
    "\n",
    "import pandas as pd\n",
    "#from sklearn.model_selection import train_test_split\n",
    "import matplotlib.pyplot as plt\n",
    "import seaborn as sns\n",
    "import numpy as np\n",
    "\n",
    "#from utils import get_data, get_two_classes, my_train_val_test_split, plot_confusion_matrix_from_cmat, predict_class_BERT\n",
    "from utils import get_data, get_two_classes, plot_confusion_matrix_from_cmat, predict_class_BERT\n",
    "\n",
    "from sklearn import metrics\n",
    "\n",
    "def get_metrics(y_test, y_pred, Y_feat_names):\n",
    "    res = {}\n",
    "    res[\"accuracy\"] = metrics.accuracy_score(y_test, y_pred)\n",
    "    tmp = metrics.precision_score(y_test, y_pred, average=None)\n",
    "    for index, cls in enumerate(Y_feat_names):\n",
    "        res[\"precision_\"+cls] = tmp[index]\n",
    "    tmp = metrics.recall_score(y_test, y_pred, average=None)\n",
    "    for index, cls in enumerate(Y_feat_names):\n",
    "        res[\"recall_\"+cls] = tmp[index]\n",
    "    tmp = metrics.f1_score(y_test, y_pred, average=None)\n",
    "    for index, cls in enumerate(Y_feat_names):\n",
    "        res[\"f1_\"+cls] = tmp[index]\n",
    "    res[\"f1-micro\"] = metrics.f1_score(y_test, y_pred, average=\"micro\")\n",
    "    res[\"f1-macro\"] = metrics.f1_score(y_test, y_pred, average=\"macro\")\n",
    "    return res\n",
    "\n",
    "def predict_class_BERT_2(text, predictor, Y_feat_names, real_class=None):\n",
    "    result_pred = predictor.predict_proba(text)\n",
    "    result_feat = Y_feat_names[0]\n",
    "    if result_pred[1] > result_pred[0]:\n",
    "        result_feat = Y_feat_names[1]\n",
    "    return result_feat"
   ]
  },
  {
   "cell_type": "markdown",
   "metadata": {
    "id": "x7cFSURABGlW"
   },
   "source": [
    "# **Agreement on 2 annotators**\n",
    "## STEP 1: Get train and test sets "
   ]
  },
  {
   "cell_type": "code",
   "execution_count": null,
   "metadata": {
    "id": "R4GI0tNR49M3"
   },
   "outputs": [],
   "source": [
    "ann = 2\n",
    "# get data\n",
    "train_loc = pd.read_csv(data_path+dataset_our_filename+str(ann)+\"_training.csv\")\n",
    "val_loc = pd.read_csv(data_path+dataset_our_filename+str(ann)+\"_validation.csv\")\n",
    "test_loc = pd.read_csv(data_path+dataset_our_filename+str(ann)+\"_test.csv\")\n",
    "# transform data into sets for models\n",
    "x_train = train_loc[\"text\"].tolist()\n",
    "y_train = pd.get_dummies(pd.DataFrame({\"class\": train_loc[\"class\"].tolist()})[\"class\"])[Y_feat_names].values\n",
    "x_val = val_loc[\"text\"].tolist()\n",
    "y_val = pd.get_dummies(pd.DataFrame({\"class\": val_loc[\"class\"].tolist()})[\"class\"])[Y_feat_names].values\n",
    "x_test = test_loc[\"text\"].tolist()\n",
    "y_test = pd.get_dummies(pd.DataFrame({\"class\": test_loc[\"class\"].tolist()})[\"class\"])[Y_feat_names].values\n"
   ]
  },
  {
   "cell_type": "code",
   "execution_count": null,
   "metadata": {
    "colab": {
     "base_uri": "https://localhost:8080/",
     "height": 35
    },
    "executionInfo": {
     "elapsed": 1845,
     "status": "ok",
     "timestamp": 1611047179336,
     "user": {
      "displayName": "Livio Bioglio",
      "photoUrl": "https://lh3.googleusercontent.com/a-/AOh14GiwMdoiTEqY0ghbXy43TVUuBdAFmuLV0G_5FOl6=s64",
      "userId": "15794955782072516856"
     },
     "user_tz": -60
    },
    "id": "vFq4pQbf4-BX",
    "outputId": "447386c1-02f3-4076-d63f-7c873ba9e7c7"
   },
   "outputs": [
    {
     "data": {
      "application/vnd.google.colaboratory.intrinsic+json": {
       "type": "string"
      },
      "text/plain": [
       "'was worried when she saw the new facebook layout page until she figured out how to get to Tetris! She is ridiculously addicted to that game! :P'"
      ]
     },
     "execution_count": 10,
     "metadata": {
      "tags": []
     },
     "output_type": "execute_result"
    }
   ],
   "source": [
    "x_train[0]"
   ]
  },
  {
   "cell_type": "code",
   "execution_count": null,
   "metadata": {
    "colab": {
     "base_uri": "https://localhost:8080/"
    },
    "executionInfo": {
     "elapsed": 2167,
     "status": "ok",
     "timestamp": 1611047187480,
     "user": {
      "displayName": "Livio Bioglio",
      "photoUrl": "https://lh3.googleusercontent.com/a-/AOh14GiwMdoiTEqY0ghbXy43TVUuBdAFmuLV0G_5FOl6=s64",
      "userId": "15794955782072516856"
     },
     "user_tz": -60
    },
    "id": "xPiCeqNe492d",
    "outputId": "92f2900b-e534-4981-8135-8a052d37a7f9"
   },
   "outputs": [
    {
     "data": {
      "text/plain": [
       "array([0, 1], dtype=uint8)"
      ]
     },
     "execution_count": 11,
     "metadata": {
      "tags": []
     },
     "output_type": "execute_result"
    }
   ],
   "source": [
    "y_train[0]"
   ]
  },
  {
   "cell_type": "markdown",
   "metadata": {
    "id": "5F_lUGiRrA8g"
   },
   "source": [
    "## STEP 2: Load and Preprocess the Data\n"
   ]
  },
  {
   "cell_type": "code",
   "execution_count": null,
   "metadata": {
    "colab": {
     "base_uri": "https://localhost:8080/",
     "height": 295
    },
    "executionInfo": {
     "elapsed": 14885,
     "status": "ok",
     "timestamp": 1611047223940,
     "user": {
      "displayName": "Livio Bioglio",
      "photoUrl": "https://lh3.googleusercontent.com/a-/AOh14GiwMdoiTEqY0ghbXy43TVUuBdAFmuLV0G_5FOl6=s64",
      "userId": "15794955782072516856"
     },
     "user_tz": -60
    },
    "id": "kn6YlfPkrATu",
    "outputId": "77b2176d-4c3a-461b-ca23-a1dea049ed8f"
   },
   "outputs": [
    {
     "name": "stdout",
     "output_type": "stream",
     "text": [
      "downloading pretrained BERT model (uncased_L-12_H-768_A-12.zip)...\n",
      "[██████████████████████████████████████████████████]\n",
      "extracting pretrained BERT model...\n",
      "done.\n",
      "\n",
      "cleanup downloaded zip...\n",
      "done.\n",
      "\n",
      "preprocessing train...\n",
      "language: en\n"
     ]
    },
    {
     "data": {
      "text/html": [
       "done."
      ],
      "text/plain": [
       "<IPython.core.display.HTML object>"
      ]
     },
     "metadata": {
      "tags": []
     },
     "output_type": "display_data"
    },
    {
     "name": "stdout",
     "output_type": "stream",
     "text": [
      "Is Multi-Label? False\n",
      "preprocessing test...\n",
      "language: en\n"
     ]
    },
    {
     "data": {
      "text/html": [
       "done."
      ],
      "text/plain": [
       "<IPython.core.display.HTML object>"
      ]
     },
     "metadata": {
      "tags": []
     },
     "output_type": "display_data"
    },
    {
     "name": "stdout",
     "output_type": "stream",
     "text": [
      "task: text classification\n"
     ]
    }
   ],
   "source": [
    "(x_train_bert,  y_train_bert), (x_val_bert, y_val_bert), preproc = text.texts_from_array(x_train=x_train, y_train=y_train,\n",
    "                                                                                          x_test=x_val, y_test=y_val,\n",
    "                                                                                          class_names=Y_feat_names,\n",
    "                                                                                          preprocess_mode='bert',\n",
    "                                                                                          lang='en',\n",
    "                                                                                          maxlen=350, \n",
    "                                                                                          max_features=35000)"
   ]
  },
  {
   "cell_type": "markdown",
   "metadata": {
    "id": "xfWtrjo5r7mB"
   },
   "source": [
    "## STEP 3:  Load the BERT Model and Instantiate a Learner object\n"
   ]
  },
  {
   "cell_type": "code",
   "execution_count": null,
   "metadata": {
    "colab": {
     "base_uri": "https://localhost:8080/"
    },
    "executionInfo": {
     "elapsed": 17113,
     "status": "ok",
     "timestamp": 1611047236240,
     "user": {
      "displayName": "Livio Bioglio",
      "photoUrl": "https://lh3.googleusercontent.com/a-/AOh14GiwMdoiTEqY0ghbXy43TVUuBdAFmuLV0G_5FOl6=s64",
      "userId": "15794955782072516856"
     },
     "user_tz": -60
    },
    "id": "P6BiAc_cr6_C",
    "outputId": "a983546c-ebb7-4a94-b4af-0dda00f04007"
   },
   "outputs": [
    {
     "name": "stdout",
     "output_type": "stream",
     "text": [
      "Is Multi-Label? False\n",
      "maxlen is 350\n",
      "done.\n"
     ]
    }
   ],
   "source": [
    "model = text.text_classifier('bert', train_data=(x_train_bert, y_train_bert), preproc=preproc)\n",
    "learner = ktrain.get_learner(model, train_data=(x_train_bert, y_train_bert), val_data=(x_val_bert, y_val_bert), batch_size=6)\n"
   ]
  },
  {
   "cell_type": "markdown",
   "metadata": {
    "id": "E5jdZcbL6yzJ"
   },
   "source": [
    "## STEP 4: Train the Model\n"
   ]
  },
  {
   "cell_type": "code",
   "execution_count": null,
   "metadata": {
    "colab": {
     "base_uri": "https://localhost:8080/"
    },
    "executionInfo": {
     "elapsed": 8177226,
     "status": "ok",
     "timestamp": 1611055449611,
     "user": {
      "displayName": "Livio Bioglio",
      "photoUrl": "https://lh3.googleusercontent.com/a-/AOh14GiwMdoiTEqY0ghbXy43TVUuBdAFmuLV0G_5FOl6=s64",
      "userId": "15794955782072516856"
     },
     "user_tz": -60
    },
    "id": "jlekC1Ls6yNm",
    "outputId": "ce68b771-7aa0-48e0-cbc4-49a77f644793"
   },
   "outputs": [
    {
     "name": "stdout",
     "output_type": "stream",
     "text": [
      "early_stopping automatically enabled at patience=5\n",
      "reduce_on_plateau automatically enabled at patience=2\n",
      "\n",
      "\n",
      "begin training using triangular learning rate policy with max lr of 5e-05...\n",
      "Epoch 1/1024\n",
      "1096/1096 [==============================] - 1375s 1s/step - loss: 0.5540 - accuracy: 0.7229 - val_loss: 0.4302 - val_accuracy: 0.7968\n",
      "Epoch 2/1024\n",
      "1096/1096 [==============================] - 1358s 1s/step - loss: 0.3187 - accuracy: 0.8689 - val_loss: 0.4596 - val_accuracy: 0.7998\n",
      "Epoch 3/1024\n",
      "1096/1096 [==============================] - 1361s 1s/step - loss: 0.1677 - accuracy: 0.9398 - val_loss: 0.5489 - val_accuracy: 0.8044\n",
      "\n",
      "Epoch 00003: Reducing Max LR on Plateau: new max lr will be 2.5e-05 (if not early_stopping).\n",
      "Epoch 4/1024\n",
      "1096/1096 [==============================] - 1360s 1s/step - loss: 0.0618 - accuracy: 0.9803 - val_loss: 0.7198 - val_accuracy: 0.8037\n",
      "Epoch 5/1024\n",
      "1096/1096 [==============================] - 1360s 1s/step - loss: 0.0380 - accuracy: 0.9885 - val_loss: 0.8861 - val_accuracy: 0.8006\n",
      "\n",
      "Epoch 00005: Reducing Max LR on Plateau: new max lr will be 1.25e-05 (if not early_stopping).\n",
      "Epoch 6/1024\n",
      "1096/1096 [==============================] - 1362s 1s/step - loss: 0.0145 - accuracy: 0.9951 - val_loss: 0.9479 - val_accuracy: 0.8059\n",
      "Restoring model weights from the end of the best epoch.\n",
      "Epoch 00006: early stopping\n",
      "Weights from best epoch have been loaded into model.\n"
     ]
    },
    {
     "data": {
      "text/plain": [
       "<tensorflow.python.keras.callbacks.History at 0x7f1c54601dd8>"
      ]
     },
     "execution_count": 14,
     "metadata": {
      "tags": []
     },
     "output_type": "execute_result"
    }
   ],
   "source": [
    "learner.autofit(5e-5)"
   ]
  },
  {
   "cell_type": "code",
   "execution_count": null,
   "metadata": {
    "colab": {
     "base_uri": "https://localhost:8080/",
     "height": 295
    },
    "executionInfo": {
     "elapsed": 995,
     "status": "ok",
     "timestamp": 1611055722128,
     "user": {
      "displayName": "Livio Bioglio",
      "photoUrl": "https://lh3.googleusercontent.com/a-/AOh14GiwMdoiTEqY0ghbXy43TVUuBdAFmuLV0G_5FOl6=s64",
      "userId": "15794955782072516856"
     },
     "user_tz": -60
    },
    "id": "xY2e4eRKmnOz",
    "outputId": "6977fbf6-2089-4a5d-b757-1877c36f5075"
   },
   "outputs": [
    {
     "data": {
      "image/png": "[encoded data removed]",
      "text/plain": [
       "<Figure size 432x288 with 1 Axes>"
      ]
     },
     "metadata": {
      "needs_background": "light",
      "tags": []
     },
     "output_type": "display_data"
    }
   ],
   "source": [
    "learner.plot()"
   ]
  },
  {
   "cell_type": "code",
   "execution_count": null,
   "metadata": {
    "colab": {
     "base_uri": "https://localhost:8080/",
     "height": 425
    },
    "executionInfo": {
     "elapsed": 63506,
     "status": "ok",
     "timestamp": 1611055960967,
     "user": {
      "displayName": "Livio Bioglio",
      "photoUrl": "https://lh3.googleusercontent.com/a-/AOh14GiwMdoiTEqY0ghbXy43TVUuBdAFmuLV0G_5FOl6=s64",
      "userId": "15794955782072516856"
     },
     "user_tz": -60
    },
    "id": "TKTklCFdb_5E",
    "outputId": "3a08a504-40c8-48e9-d5aa-04276a29adfb"
   },
   "outputs": [
    {
     "name": "stdout",
     "output_type": "stream",
     "text": [
      "              precision    recall  f1-score   support\n",
      "\n",
      "           0       0.84      0.84      0.84       814\n",
      "           1       0.73      0.73      0.73       500\n",
      "\n",
      "    accuracy                           0.80      1314\n",
      "   macro avg       0.78      0.78      0.78      1314\n",
      "weighted avg       0.80      0.80      0.80      1314\n",
      "\n"
     ]
    },
    {
     "data": {
      "image/png": "[encoded data removed]",
      "text/plain": [
       "<Figure size 432x288 with 2 Axes>"
      ]
     },
     "metadata": {
      "needs_background": "light",
      "tags": []
     },
     "output_type": "display_data"
    }
   ],
   "source": [
    "df_val = learner.evaluate()\n",
    "plot_confusion_matrix_from_cmat(df_val, normalize=True, labels=Y_feat_names)\n"
   ]
  },
  {
   "cell_type": "code",
   "execution_count": null,
   "metadata": {
    "id": "cx9XoHFPf6I8"
   },
   "outputs": [],
   "source": [
    "predictor = ktrain.get_predictor(learner.model, preproc)\n",
    "# save\n",
    "predictor.save(models_path+\"sensitag_BERT_ann2\")\n"
   ]
  },
  {
   "cell_type": "markdown",
   "metadata": {
    "id": "25Cn1bvO4My8"
   },
   "source": [
    "## STEP 5: Test the Model\n"
   ]
  },
  {
   "cell_type": "code",
   "execution_count": null,
   "metadata": {
    "colab": {
     "base_uri": "https://localhost:8080/",
     "height": 425
    },
    "executionInfo": {
     "elapsed": 82027,
     "status": "ok",
     "timestamp": 1611056002751,
     "user": {
      "displayName": "Livio Bioglio",
      "photoUrl": "https://lh3.googleusercontent.com/a-/AOh14GiwMdoiTEqY0ghbXy43TVUuBdAFmuLV0G_5FOl6=s64",
      "userId": "15794955782072516856"
     },
     "user_tz": -60
    },
    "id": "1MjJJM9LqDIQ",
    "outputId": "cd3c5fad-953a-40ad-876d-e6c737dbbafa"
   },
   "outputs": [
    {
     "name": "stdout",
     "output_type": "stream",
     "text": [
      "              precision    recall  f1-score   support\n",
      "\n",
      "          ns       0.83      0.83      0.83       543\n",
      "        sens       0.73      0.73      0.73       333\n",
      "\n",
      "    accuracy                           0.79       876\n",
      "   macro avg       0.78      0.78      0.78       876\n",
      "weighted avg       0.79      0.79      0.79       876\n",
      "\n"
     ]
    },
    {
     "data": {
      "image/png": "[encoded data removed]",
      "text/plain": [
       "<Figure size 432x288 with 2 Axes>"
      ]
     },
     "metadata": {
      "needs_background": "light",
      "tags": []
     },
     "output_type": "display_data"
    }
   ],
   "source": [
    "# validation on test set\n",
    "x_test_bert = preproc.preprocess(x_test)\n",
    "df_test = learner.validate(val_data=(x_test_bert, y_test), class_names=Y_feat_names)\n",
    "plot_confusion_matrix_from_cmat(df_test, normalize=True, labels=Y_feat_names)\n"
   ]
  },
  {
   "cell_type": "code",
   "execution_count": null,
   "metadata": {
    "colab": {
     "base_uri": "https://localhost:8080/",
     "height": 81
    },
    "executionInfo": {
     "elapsed": 1689,
     "status": "ok",
     "timestamp": 1611057246795,
     "user": {
      "displayName": "Livio Bioglio",
      "photoUrl": "https://lh3.googleusercontent.com/a-/AOh14GiwMdoiTEqY0ghbXy43TVUuBdAFmuLV0G_5FOl6=s64",
      "userId": "15794955782072516856"
     },
     "user_tz": -60
    },
    "id": "EkiV6GuocETJ",
    "outputId": "59fa81a1-df8d-4eb2-828b-911c7e80b5dc"
   },
   "outputs": [
    {
     "data": {
      "text/html": [
       "<div>\n",
       "<style scoped>\n",
       "    .dataframe tbody tr th:only-of-type {\n",
       "        vertical-align: middle;\n",
       "    }\n",
       "\n",
       "    .dataframe tbody tr th {\n",
       "        vertical-align: top;\n",
       "    }\n",
       "\n",
       "    .dataframe thead th {\n",
       "        text-align: right;\n",
       "    }\n",
       "</style>\n",
       "<table border=\"1\" class=\"dataframe\">\n",
       "  <thead>\n",
       "    <tr style=\"text-align: right;\">\n",
       "      <th></th>\n",
       "      <th>accuracy</th>\n",
       "      <th>precision_ns</th>\n",
       "      <th>precision_sens</th>\n",
       "      <th>recall_ns</th>\n",
       "      <th>recall_sens</th>\n",
       "      <th>f1_ns</th>\n",
       "      <th>f1_sens</th>\n",
       "      <th>f1-micro</th>\n",
       "      <th>f1-macro</th>\n",
       "      <th>set</th>\n",
       "      <th>ann</th>\n",
       "    </tr>\n",
       "  </thead>\n",
       "  <tbody>\n",
       "    <tr>\n",
       "      <th>0</th>\n",
       "      <td>0.793379</td>\n",
       "      <td>0.833948</td>\n",
       "      <td>0.727545</td>\n",
       "      <td>0.832413</td>\n",
       "      <td>0.72973</td>\n",
       "      <td>0.83318</td>\n",
       "      <td>0.728636</td>\n",
       "      <td>0.793379</td>\n",
       "      <td>0.780908</td>\n",
       "      <td>test</td>\n",
       "      <td>2</td>\n",
       "    </tr>\n",
       "  </tbody>\n",
       "</table>\n",
       "</div>"
      ],
      "text/plain": [
       "   accuracy  precision_ns  precision_sens  ...  f1-macro   set  ann\n",
       "0  0.793379      0.833948        0.727545  ...  0.780908  test    2\n",
       "\n",
       "[1 rows x 11 columns]"
      ]
     },
     "execution_count": 37,
     "metadata": {
      "tags": []
     },
     "output_type": "execute_result"
    }
   ],
   "source": [
    "from sklearn import metrics\n",
    "\n",
    "def get_metrics(y_test, y_pred, Y_feat_names):\n",
    "    res = {}\n",
    "    res[\"accuracy\"] = metrics.accuracy_score(y_test, y_pred)\n",
    "    tmp = metrics.precision_score(y_test, y_pred, average=None)\n",
    "    for index, cls in enumerate(Y_feat_names):\n",
    "        res[\"precision_\"+cls] = tmp[index]\n",
    "    tmp = metrics.recall_score(y_test, y_pred, average=None)\n",
    "    for index, cls in enumerate(Y_feat_names):\n",
    "        res[\"recall_\"+cls] = tmp[index]\n",
    "    tmp = metrics.f1_score(y_test, y_pred, average=None)\n",
    "    for index, cls in enumerate(Y_feat_names):\n",
    "        res[\"f1_\"+cls] = tmp[index]\n",
    "    res[\"f1-micro\"] = metrics.f1_score(y_test, y_pred, average=\"micro\")\n",
    "    res[\"f1-macro\"] = metrics.f1_score(y_test, y_pred, average=\"macro\")\n",
    "    return res\n",
    "\n",
    "def predict_class_BERT_2(text, predictor, Y_feat_names, real_class=None):\n",
    "    result_pred = predictor.predict_proba(text)\n",
    "    result_feat = Y_feat_names[0]\n",
    "    if result_pred[1] > result_pred[0]:\n",
    "        result_feat = Y_feat_names[1]\n",
    "    return result_feat\n",
    "\n",
    "met_dict = []\n",
    "\n",
    "y_test_feat = [Y_feat_names[0] if x[0] == 1 else Y_feat_names[1] for x in y_test]\n",
    "y_pred_feat = [predict_class_BERT_2(x, predictor, Y_feat_names) for x in x_test]\n",
    "met_dict_loc = get_metrics(y_test_feat, y_pred_feat, Y_feat_names)\n",
    "met_dict_loc[\"set\"] = \"test\"\n",
    "met_dict_loc[\"ann\"] = ann\n",
    "met_dict.append(met_dict_loc)\n",
    "pd.DataFrame(met_dict)"
   ]
  },
  {
   "cell_type": "markdown",
   "metadata": {
    "id": "Qd5nsnNAfx9r"
   },
   "source": [
    "## STEP : Test the Model on other datasets\n"
   ]
  },
  {
   "cell_type": "code",
   "execution_count": null,
   "metadata": {
    "colab": {
     "base_uri": "https://localhost:8080/",
     "height": 394
    },
    "executionInfo": {
     "elapsed": 4763959,
     "status": "ok",
     "timestamp": 1611070977010,
     "user": {
      "displayName": "Livio Bioglio",
      "photoUrl": "https://lh3.googleusercontent.com/a-/AOh14GiwMdoiTEqY0ghbXy43TVUuBdAFmuLV0G_5FOl6=s64",
      "userId": "15794955782072516856"
     },
     "user_tz": -60
    },
    "id": "p-_dmmSze6iC",
    "outputId": "4574803b-eb6a-4229-9e0f-a70a8f298979"
   },
   "outputs": [
    {
     "data": {
      "text/html": [
       "<div>\n",
       "<style scoped>\n",
       "    .dataframe tbody tr th:only-of-type {\n",
       "        vertical-align: middle;\n",
       "    }\n",
       "\n",
       "    .dataframe tbody tr th {\n",
       "        vertical-align: top;\n",
       "    }\n",
       "\n",
       "    .dataframe thead th {\n",
       "        text-align: right;\n",
       "    }\n",
       "</style>\n",
       "<table border=\"1\" class=\"dataframe\">\n",
       "  <thead>\n",
       "    <tr style=\"text-align: right;\">\n",
       "      <th></th>\n",
       "      <th>accuracy</th>\n",
       "      <th>precision_ns</th>\n",
       "      <th>precision_sens</th>\n",
       "      <th>recall_ns</th>\n",
       "      <th>recall_sens</th>\n",
       "      <th>f1_ns</th>\n",
       "      <th>f1_sens</th>\n",
       "      <th>f1-micro</th>\n",
       "      <th>f1-macro</th>\n",
       "      <th>set</th>\n",
       "      <th>ann</th>\n",
       "    </tr>\n",
       "  </thead>\n",
       "  <tbody>\n",
       "    <tr>\n",
       "      <th>0</th>\n",
       "      <td>0.793379</td>\n",
       "      <td>0.833948</td>\n",
       "      <td>0.727545</td>\n",
       "      <td>0.832413</td>\n",
       "      <td>0.729730</td>\n",
       "      <td>0.833180</td>\n",
       "      <td>0.728636</td>\n",
       "      <td>0.793379</td>\n",
       "      <td>0.780908</td>\n",
       "      <td>test</td>\n",
       "      <td>2</td>\n",
       "    </tr>\n",
       "    <tr>\n",
       "      <th>1</th>\n",
       "      <td>0.631147</td>\n",
       "      <td>0.672587</td>\n",
       "      <td>0.521432</td>\n",
       "      <td>0.788175</td>\n",
       "      <td>0.375600</td>\n",
       "      <td>0.725808</td>\n",
       "      <td>0.436661</td>\n",
       "      <td>0.631147</td>\n",
       "      <td>0.581235</td>\n",
       "      <td>1</td>\n",
       "      <td>2</td>\n",
       "    </tr>\n",
       "    <tr>\n",
       "      <th>2</th>\n",
       "      <td>0.621563</td>\n",
       "      <td>0.667036</td>\n",
       "      <td>0.503889</td>\n",
       "      <td>0.776754</td>\n",
       "      <td>0.369005</td>\n",
       "      <td>0.717726</td>\n",
       "      <td>0.426025</td>\n",
       "      <td>0.621563</td>\n",
       "      <td>0.571876</td>\n",
       "      <td>2</td>\n",
       "      <td>2</td>\n",
       "    </tr>\n",
       "    <tr>\n",
       "      <th>3</th>\n",
       "      <td>0.629093</td>\n",
       "      <td>0.674352</td>\n",
       "      <td>0.516872</td>\n",
       "      <td>0.775833</td>\n",
       "      <td>0.390288</td>\n",
       "      <td>0.721542</td>\n",
       "      <td>0.444748</td>\n",
       "      <td>0.629093</td>\n",
       "      <td>0.583145</td>\n",
       "      <td>3</td>\n",
       "      <td>2</td>\n",
       "    </tr>\n",
       "    <tr>\n",
       "      <th>4</th>\n",
       "      <td>0.632288</td>\n",
       "      <td>0.676254</td>\n",
       "      <td>0.522537</td>\n",
       "      <td>0.779517</td>\n",
       "      <td>0.392686</td>\n",
       "      <td>0.724223</td>\n",
       "      <td>0.448400</td>\n",
       "      <td>0.632288</td>\n",
       "      <td>0.586312</td>\n",
       "      <td>4</td>\n",
       "      <td>2</td>\n",
       "    </tr>\n",
       "    <tr>\n",
       "      <th>5</th>\n",
       "      <td>0.624986</td>\n",
       "      <td>0.671635</td>\n",
       "      <td>0.509703</td>\n",
       "      <td>0.771965</td>\n",
       "      <td>0.385791</td>\n",
       "      <td>0.718313</td>\n",
       "      <td>0.439174</td>\n",
       "      <td>0.624986</td>\n",
       "      <td>0.578744</td>\n",
       "      <td>5</td>\n",
       "      <td>2</td>\n",
       "    </tr>\n",
       "    <tr>\n",
       "      <th>6</th>\n",
       "      <td>0.633771</td>\n",
       "      <td>0.675028</td>\n",
       "      <td>0.525969</td>\n",
       "      <td>0.788175</td>\n",
       "      <td>0.382494</td>\n",
       "      <td>0.727226</td>\n",
       "      <td>0.442902</td>\n",
       "      <td>0.633771</td>\n",
       "      <td>0.585064</td>\n",
       "      <td>6</td>\n",
       "      <td>2</td>\n",
       "    </tr>\n",
       "    <tr>\n",
       "      <th>7</th>\n",
       "      <td>0.626469</td>\n",
       "      <td>0.670464</td>\n",
       "      <td>0.512684</td>\n",
       "      <td>0.780623</td>\n",
       "      <td>0.375600</td>\n",
       "      <td>0.721362</td>\n",
       "      <td>0.433564</td>\n",
       "      <td>0.626469</td>\n",
       "      <td>0.577463</td>\n",
       "      <td>7</td>\n",
       "      <td>2</td>\n",
       "    </tr>\n",
       "    <tr>\n",
       "      <th>8</th>\n",
       "      <td>0.624643</td>\n",
       "      <td>0.670167</td>\n",
       "      <td>0.509274</td>\n",
       "      <td>0.775833</td>\n",
       "      <td>0.378597</td>\n",
       "      <td>0.719139</td>\n",
       "      <td>0.434319</td>\n",
       "      <td>0.624643</td>\n",
       "      <td>0.576729</td>\n",
       "      <td>8</td>\n",
       "      <td>2</td>\n",
       "    </tr>\n",
       "    <tr>\n",
       "      <th>9</th>\n",
       "      <td>0.635254</td>\n",
       "      <td>0.675859</td>\n",
       "      <td>0.528731</td>\n",
       "      <td>0.790017</td>\n",
       "      <td>0.383393</td>\n",
       "      <td>0.728493</td>\n",
       "      <td>0.444483</td>\n",
       "      <td>0.635254</td>\n",
       "      <td>0.586488</td>\n",
       "      <td>9</td>\n",
       "      <td>2</td>\n",
       "    </tr>\n",
       "    <tr>\n",
       "      <th>10</th>\n",
       "      <td>0.625442</td>\n",
       "      <td>0.669886</td>\n",
       "      <td>0.510821</td>\n",
       "      <td>0.779333</td>\n",
       "      <td>0.375000</td>\n",
       "      <td>0.720477</td>\n",
       "      <td>0.432498</td>\n",
       "      <td>0.625442</td>\n",
       "      <td>0.576487</td>\n",
       "      <td>10</td>\n",
       "      <td>2</td>\n",
       "    </tr>\n",
       "  </tbody>\n",
       "</table>\n",
       "</div>"
      ],
      "text/plain": [
       "    accuracy  precision_ns  precision_sens  ...  f1-macro   set  ann\n",
       "0   0.793379      0.833948        0.727545  ...  0.780908  test    2\n",
       "1   0.631147      0.672587        0.521432  ...  0.581235     1    2\n",
       "2   0.621563      0.667036        0.503889  ...  0.571876     2    2\n",
       "3   0.629093      0.674352        0.516872  ...  0.583145     3    2\n",
       "4   0.632288      0.676254        0.522537  ...  0.586312     4    2\n",
       "5   0.624986      0.671635        0.509703  ...  0.578744     5    2\n",
       "6   0.633771      0.675028        0.525969  ...  0.585064     6    2\n",
       "7   0.626469      0.670464        0.512684  ...  0.577463     7    2\n",
       "8   0.624643      0.670167        0.509274  ...  0.576729     8    2\n",
       "9   0.635254      0.675859        0.528731  ...  0.586488     9    2\n",
       "10  0.625442      0.669886        0.510821  ...  0.576487    10    2\n",
       "\n",
       "[11 rows x 11 columns]"
      ]
     },
     "execution_count": 46,
     "metadata": {
      "tags": []
     },
     "output_type": "execute_result"
    }
   ],
   "source": [
    "for index in range(10):\n",
    "    test_loc = pd.read_csv(data_path+dataset_wt_filename+((\"0\"+str(index+1))[-2:])+\".csv\")\n",
    "    x_test_loc = test_loc[\"text\"].tolist()\n",
    "    y_test_feat = test_loc[\"class\"].tolist()\n",
    "    #y_test_feat = [Y_feat_names[0] if x[0] == 1 else Y_feat_names[1] for x in y_test_loc]\n",
    "    y_pred_feat = [predict_class_BERT_2(x, predictor, Y_feat_names) for x in x_test_loc]\n",
    "    met_dict_loc = get_metrics(y_test_feat, y_pred_feat, Y_feat_names)\n",
    "    met_dict_loc[\"set\"] = str(index+1)\n",
    "    met_dict_loc[\"ann\"] = ann\n",
    "    #print(met_dict_loc)\n",
    "    met_dict.append(met_dict_loc)\n",
    "pd.DataFrame(met_dict)"
   ]
  },
  {
   "cell_type": "code",
   "execution_count": null,
   "metadata": {
    "id": "Hko_JilkTqvQ"
   },
   "outputs": [],
   "source": [
    "# reload the predictor\n",
    "ann = 2\n",
    "predictor = ktrain.load_predictor(models_path+\"sensitag_BERT_ann\"+str(ann))"
   ]
  },
  {
   "cell_type": "code",
   "execution_count": null,
   "metadata": {
    "colab": {
     "base_uri": "https://localhost:8080/",
     "height": 340
    },
    "executionInfo": {
     "elapsed": 308715,
     "status": "error",
     "timestamp": 1611189154626,
     "user": {
      "displayName": "Livio Bioglio",
      "photoUrl": "https://lh3.googleusercontent.com/a-/AOh14GiwMdoiTEqY0ghbXy43TVUuBdAFmuLV0G_5FOl6=s64",
      "userId": "15794955782072516856"
     },
     "user_tz": -60
    },
    "id": "WSYuA2l6T67V",
    "outputId": "731baccd-76ed-4f42-be4b-4eab9c82df98"
   },
   "outputs": [
    {
     "ename": "ValueError",
     "evalue": "ignored",
     "output_type": "error",
     "traceback": [
      "\u001b[0;31m---------------------------------------------------------------------------\u001b[0m",
      "\u001b[0;31mValueError\u001b[0m                                Traceback (most recent call last)",
      "\u001b[0;32m<ipython-input-8-b5233d721ee4>\u001b[0m in \u001b[0;36m<module>\u001b[0;34m()\u001b[0m\n\u001b[1;32m     12\u001b[0m \u001b[0;31m#met_dict.append(met_dict_loc)\u001b[0m\u001b[0;34m\u001b[0m\u001b[0;34m\u001b[0m\u001b[0;34m\u001b[0m\u001b[0m\n\u001b[1;32m     13\u001b[0m \u001b[0;31m#pd.DataFrame(met_dict)\u001b[0m\u001b[0;34m\u001b[0m\u001b[0;34m\u001b[0m\u001b[0;34m\u001b[0m\u001b[0m\n\u001b[0;32m---> 14\u001b[0;31m \u001b[0mpd\u001b[0m\u001b[0;34m.\u001b[0m\u001b[0mDataFrame\u001b[0m\u001b[0;34m(\u001b[0m\u001b[0mmet_dict_loc\u001b[0m\u001b[0;34m)\u001b[0m\u001b[0;34m\u001b[0m\u001b[0;34m\u001b[0m\u001b[0m\n\u001b[0m",
      "\u001b[0;32m/usr/local/lib/python3.6/dist-packages/pandas/core/frame.py\u001b[0m in \u001b[0;36m__init__\u001b[0;34m(self, data, index, columns, dtype, copy)\u001b[0m\n\u001b[1;32m    466\u001b[0m \u001b[0;34m\u001b[0m\u001b[0m\n\u001b[1;32m    467\u001b[0m         \u001b[0;32melif\u001b[0m \u001b[0misinstance\u001b[0m\u001b[0;34m(\u001b[0m\u001b[0mdata\u001b[0m\u001b[0;34m,\u001b[0m \u001b[0mdict\u001b[0m\u001b[0;34m)\u001b[0m\u001b[0;34m:\u001b[0m\u001b[0;34m\u001b[0m\u001b[0;34m\u001b[0m\u001b[0m\n\u001b[0;32m--> 468\u001b[0;31m             \u001b[0mmgr\u001b[0m \u001b[0;34m=\u001b[0m \u001b[0minit_dict\u001b[0m\u001b[0;34m(\u001b[0m\u001b[0mdata\u001b[0m\u001b[0;34m,\u001b[0m \u001b[0mindex\u001b[0m\u001b[0;34m,\u001b[0m \u001b[0mcolumns\u001b[0m\u001b[0;34m,\u001b[0m \u001b[0mdtype\u001b[0m\u001b[0;34m=\u001b[0m\u001b[0mdtype\u001b[0m\u001b[0;34m)\u001b[0m\u001b[0;34m\u001b[0m\u001b[0;34m\u001b[0m\u001b[0m\n\u001b[0m\u001b[1;32m    469\u001b[0m         \u001b[0;32melif\u001b[0m \u001b[0misinstance\u001b[0m\u001b[0;34m(\u001b[0m\u001b[0mdata\u001b[0m\u001b[0;34m,\u001b[0m \u001b[0mma\u001b[0m\u001b[0;34m.\u001b[0m\u001b[0mMaskedArray\u001b[0m\u001b[0;34m)\u001b[0m\u001b[0;34m:\u001b[0m\u001b[0;34m\u001b[0m\u001b[0;34m\u001b[0m\u001b[0m\n\u001b[1;32m    470\u001b[0m             \u001b[0;32mimport\u001b[0m \u001b[0mnumpy\u001b[0m\u001b[0;34m.\u001b[0m\u001b[0mma\u001b[0m\u001b[0;34m.\u001b[0m\u001b[0mmrecords\u001b[0m \u001b[0;32mas\u001b[0m \u001b[0mmrecords\u001b[0m\u001b[0;34m\u001b[0m\u001b[0;34m\u001b[0m\u001b[0m\n",
      "\u001b[0;32m/usr/local/lib/python3.6/dist-packages/pandas/core/internals/construction.py\u001b[0m in \u001b[0;36minit_dict\u001b[0;34m(data, index, columns, dtype)\u001b[0m\n\u001b[1;32m    281\u001b[0m             \u001b[0marr\u001b[0m \u001b[0;32mif\u001b[0m \u001b[0;32mnot\u001b[0m \u001b[0mis_datetime64tz_dtype\u001b[0m\u001b[0;34m(\u001b[0m\u001b[0marr\u001b[0m\u001b[0;34m)\u001b[0m \u001b[0;32melse\u001b[0m \u001b[0marr\u001b[0m\u001b[0;34m.\u001b[0m\u001b[0mcopy\u001b[0m\u001b[0;34m(\u001b[0m\u001b[0;34m)\u001b[0m \u001b[0;32mfor\u001b[0m \u001b[0marr\u001b[0m \u001b[0;32min\u001b[0m \u001b[0marrays\u001b[0m\u001b[0;34m\u001b[0m\u001b[0;34m\u001b[0m\u001b[0m\n\u001b[1;32m    282\u001b[0m         ]\n\u001b[0;32m--> 283\u001b[0;31m     \u001b[0;32mreturn\u001b[0m \u001b[0marrays_to_mgr\u001b[0m\u001b[0;34m(\u001b[0m\u001b[0marrays\u001b[0m\u001b[0;34m,\u001b[0m \u001b[0mdata_names\u001b[0m\u001b[0;34m,\u001b[0m \u001b[0mindex\u001b[0m\u001b[0;34m,\u001b[0m \u001b[0mcolumns\u001b[0m\u001b[0;34m,\u001b[0m \u001b[0mdtype\u001b[0m\u001b[0;34m=\u001b[0m\u001b[0mdtype\u001b[0m\u001b[0;34m)\u001b[0m\u001b[0;34m\u001b[0m\u001b[0;34m\u001b[0m\u001b[0m\n\u001b[0m\u001b[1;32m    284\u001b[0m \u001b[0;34m\u001b[0m\u001b[0m\n\u001b[1;32m    285\u001b[0m \u001b[0;34m\u001b[0m\u001b[0m\n",
      "\u001b[0;32m/usr/local/lib/python3.6/dist-packages/pandas/core/internals/construction.py\u001b[0m in \u001b[0;36marrays_to_mgr\u001b[0;34m(arrays, arr_names, index, columns, dtype, verify_integrity)\u001b[0m\n\u001b[1;32m     76\u001b[0m         \u001b[0;31m# figure out the index, if necessary\u001b[0m\u001b[0;34m\u001b[0m\u001b[0;34m\u001b[0m\u001b[0;34m\u001b[0m\u001b[0m\n\u001b[1;32m     77\u001b[0m         \u001b[0;32mif\u001b[0m \u001b[0mindex\u001b[0m \u001b[0;32mis\u001b[0m \u001b[0;32mNone\u001b[0m\u001b[0;34m:\u001b[0m\u001b[0;34m\u001b[0m\u001b[0;34m\u001b[0m\u001b[0m\n\u001b[0;32m---> 78\u001b[0;31m             \u001b[0mindex\u001b[0m \u001b[0;34m=\u001b[0m \u001b[0mextract_index\u001b[0m\u001b[0;34m(\u001b[0m\u001b[0marrays\u001b[0m\u001b[0;34m)\u001b[0m\u001b[0;34m\u001b[0m\u001b[0;34m\u001b[0m\u001b[0m\n\u001b[0m\u001b[1;32m     79\u001b[0m         \u001b[0;32melse\u001b[0m\u001b[0;34m:\u001b[0m\u001b[0;34m\u001b[0m\u001b[0;34m\u001b[0m\u001b[0m\n\u001b[1;32m     80\u001b[0m             \u001b[0mindex\u001b[0m \u001b[0;34m=\u001b[0m \u001b[0mensure_index\u001b[0m\u001b[0;34m(\u001b[0m\u001b[0mindex\u001b[0m\u001b[0;34m)\u001b[0m\u001b[0;34m\u001b[0m\u001b[0;34m\u001b[0m\u001b[0m\n",
      "\u001b[0;32m/usr/local/lib/python3.6/dist-packages/pandas/core/internals/construction.py\u001b[0m in \u001b[0;36mextract_index\u001b[0;34m(data)\u001b[0m\n\u001b[1;32m    385\u001b[0m \u001b[0;34m\u001b[0m\u001b[0m\n\u001b[1;32m    386\u001b[0m         \u001b[0;32mif\u001b[0m \u001b[0;32mnot\u001b[0m \u001b[0mindexes\u001b[0m \u001b[0;32mand\u001b[0m \u001b[0;32mnot\u001b[0m \u001b[0mraw_lengths\u001b[0m\u001b[0;34m:\u001b[0m\u001b[0;34m\u001b[0m\u001b[0;34m\u001b[0m\u001b[0m\n\u001b[0;32m--> 387\u001b[0;31m             \u001b[0;32mraise\u001b[0m \u001b[0mValueError\u001b[0m\u001b[0;34m(\u001b[0m\u001b[0;34m\"If using all scalar values, you must pass an index\"\u001b[0m\u001b[0;34m)\u001b[0m\u001b[0;34m\u001b[0m\u001b[0;34m\u001b[0m\u001b[0m\n\u001b[0m\u001b[1;32m    388\u001b[0m \u001b[0;34m\u001b[0m\u001b[0m\n\u001b[1;32m    389\u001b[0m         \u001b[0;32mif\u001b[0m \u001b[0mhave_series\u001b[0m\u001b[0;34m:\u001b[0m\u001b[0;34m\u001b[0m\u001b[0;34m\u001b[0m\u001b[0m\n",
      "\u001b[0;31mValueError\u001b[0m: If using all scalar values, you must pass an index"
     ]
    }
   ],
   "source": [
    "other_ann = 3\n",
    "\n",
    "# get data\n",
    "data_loc = get_data(data_path+\"annotation_results.csv\", lim=other_ann)\n",
    "data_loc = get_two_classes(data_loc)\n",
    "x_test_loc = data_loc[\"text\"].tolist()\n",
    "y_test_feat = data_loc[\"class\"].tolist()\n",
    "y_pred_feat = [predict_class_BERT_2(x, predictor, Y_feat_names) for x in x_test_loc]\n",
    "met_dict_loc = get_metrics(y_test_feat, y_pred_feat, Y_feat_names)\n",
    "met_dict_loc[\"set\"] = \"ann\"+str(other_ann)\n",
    "met_dict_loc[\"ann\"] = ann\n",
    "#met_dict.append(met_dict_loc)\n",
    "#pd.DataFrame(met_dict)\n",
    "pd.DataFrame([met_dict_loc])"
   ]
  },
  {
   "cell_type": "code",
   "execution_count": null,
   "metadata": {
    "colab": {
     "base_uri": "https://localhost:8080/",
     "height": 80
    },
    "executionInfo": {
     "elapsed": 832,
     "status": "ok",
     "timestamp": 1611189939258,
     "user": {
      "displayName": "Livio Bioglio",
      "photoUrl": "https://lh3.googleusercontent.com/a-/AOh14GiwMdoiTEqY0ghbXy43TVUuBdAFmuLV0G_5FOl6=s64",
      "userId": "15794955782072516856"
     },
     "user_tz": -60
    },
    "id": "vc9xuJPLZw4Q",
    "outputId": "d110db33-b71e-44ee-94ca-e9dc4e9229ec"
   },
   "outputs": [
    {
     "data": {
      "text/html": [
       "<div>\n",
       "<style scoped>\n",
       "    .dataframe tbody tr th:only-of-type {\n",
       "        vertical-align: middle;\n",
       "    }\n",
       "\n",
       "    .dataframe tbody tr th {\n",
       "        vertical-align: top;\n",
       "    }\n",
       "\n",
       "    .dataframe thead th {\n",
       "        text-align: right;\n",
       "    }\n",
       "</style>\n",
       "<table border=\"1\" class=\"dataframe\">\n",
       "  <thead>\n",
       "    <tr style=\"text-align: right;\">\n",
       "      <th></th>\n",
       "      <th>accuracy</th>\n",
       "      <th>precision_ns</th>\n",
       "      <th>precision_sens</th>\n",
       "      <th>recall_ns</th>\n",
       "      <th>recall_sens</th>\n",
       "      <th>f1_ns</th>\n",
       "      <th>f1_sens</th>\n",
       "      <th>f1-micro</th>\n",
       "      <th>f1-macro</th>\n",
       "      <th>set</th>\n",
       "      <th>ann</th>\n",
       "    </tr>\n",
       "  </thead>\n",
       "  <tbody>\n",
       "    <tr>\n",
       "      <th>0</th>\n",
       "      <td>0.943648</td>\n",
       "      <td>0.962588</td>\n",
       "      <td>0.910811</td>\n",
       "      <td>0.94927</td>\n",
       "      <td>0.933518</td>\n",
       "      <td>0.955882</td>\n",
       "      <td>0.922025</td>\n",
       "      <td>0.943648</td>\n",
       "      <td>0.938953</td>\n",
       "      <td>ann3</td>\n",
       "      <td>2</td>\n",
       "    </tr>\n",
       "  </tbody>\n",
       "</table>\n",
       "</div>"
      ],
      "text/plain": [
       "   accuracy  precision_ns  precision_sens  ...  f1-macro   set  ann\n",
       "0  0.943648      0.962588        0.910811  ...  0.938953  ann3    2\n",
       "\n",
       "[1 rows x 11 columns]"
      ]
     },
     "execution_count": 10,
     "metadata": {
      "tags": []
     },
     "output_type": "execute_result"
    }
   ],
   "source": [
    "pd.DataFrame([met_dict_loc])"
   ]
  },
  {
   "cell_type": "markdown",
   "metadata": {
    "id": "knX9n7bDabTb"
   },
   "source": [
    "# **Agreement on 3 annotators**\n",
    "## STEP 1: Get train and test sets "
   ]
  },
  {
   "cell_type": "code",
   "execution_count": null,
   "metadata": {
    "id": "OmHDNcVnabTh"
   },
   "outputs": [],
   "source": [
    "ann = 3\n",
    "# get data\n",
    "train_loc = pd.read_csv(data_path+dataset_our_filename+str(ann)+\"_training.csv\")\n",
    "val_loc = pd.read_csv(data_path+dataset_our_filename+str(ann)+\"_validation.csv\")\n",
    "test_loc = pd.read_csv(data_path+dataset_our_filename+str(ann)+\"_test.csv\")\n",
    "# transform data into sets for models\n",
    "x_train = train_loc[\"text\"].tolist()\n",
    "y_train = pd.get_dummies(pd.DataFrame({\"class\": train_loc[\"class\"].tolist()})[\"class\"])[Y_feat_names].values\n",
    "x_val = val_loc[\"text\"].tolist()\n",
    "y_val = pd.get_dummies(pd.DataFrame({\"class\": val_loc[\"class\"].tolist()})[\"class\"])[Y_feat_names].values\n",
    "x_test = test_loc[\"text\"].tolist()\n",
    "y_test = pd.get_dummies(pd.DataFrame({\"class\": test_loc[\"class\"].tolist()})[\"class\"])[Y_feat_names].values\n"
   ]
  },
  {
   "cell_type": "code",
   "execution_count": null,
   "metadata": {
    "colab": {
     "base_uri": "https://localhost:8080/",
     "height": 35
    },
    "executionInfo": {
     "elapsed": 511,
     "status": "ok",
     "timestamp": 1611089453286,
     "user": {
      "displayName": "Livio Bioglio",
      "photoUrl": "https://lh3.googleusercontent.com/a-/AOh14GiwMdoiTEqY0ghbXy43TVUuBdAFmuLV0G_5FOl6=s64",
      "userId": "15794955782072516856"
     },
     "user_tz": -60
    },
    "id": "wu3vIrLAabTj",
    "outputId": "cd729fc6-9715-4332-fdb6-63e1fbc1b52e"
   },
   "outputs": [
    {
     "data": {
      "application/vnd.google.colaboratory.intrinsic+json": {
       "type": "string"
      },
      "text/plain": [
       "\"Once again can't sleep, but too tired to do anything productive.\""
      ]
     },
     "execution_count": 7,
     "metadata": {
      "tags": []
     },
     "output_type": "execute_result"
    }
   ],
   "source": [
    "x_train[0]"
   ]
  },
  {
   "cell_type": "code",
   "execution_count": null,
   "metadata": {
    "colab": {
     "base_uri": "https://localhost:8080/"
    },
    "executionInfo": {
     "elapsed": 684,
     "status": "ok",
     "timestamp": 1611089454042,
     "user": {
      "displayName": "Livio Bioglio",
      "photoUrl": "https://lh3.googleusercontent.com/a-/AOh14GiwMdoiTEqY0ghbXy43TVUuBdAFmuLV0G_5FOl6=s64",
      "userId": "15794955782072516856"
     },
     "user_tz": -60
    },
    "id": "KSeGJpBbabTk",
    "outputId": "a6ee7dbe-544c-456c-b2b6-e08b0d845e63"
   },
   "outputs": [
    {
     "data": {
      "text/plain": [
       "array([0, 1], dtype=uint8)"
      ]
     },
     "execution_count": 8,
     "metadata": {
      "tags": []
     },
     "output_type": "execute_result"
    }
   ],
   "source": [
    "y_train[0]"
   ]
  },
  {
   "cell_type": "markdown",
   "metadata": {
    "id": "ZGt3C-lVabTl"
   },
   "source": [
    "## STEP 2: Load and Preprocess the Data\n"
   ]
  },
  {
   "cell_type": "code",
   "execution_count": null,
   "metadata": {
    "colab": {
     "base_uri": "https://localhost:8080/",
     "height": 295
    },
    "executionInfo": {
     "elapsed": 8133,
     "status": "ok",
     "timestamp": 1611089489662,
     "user": {
      "displayName": "Livio Bioglio",
      "photoUrl": "https://lh3.googleusercontent.com/a-/AOh14GiwMdoiTEqY0ghbXy43TVUuBdAFmuLV0G_5FOl6=s64",
      "userId": "15794955782072516856"
     },
     "user_tz": -60
    },
    "id": "7Pk4f4_jabTl",
    "outputId": "327ee148-68e3-4ab4-f1e4-e0a111fce656"
   },
   "outputs": [
    {
     "name": "stdout",
     "output_type": "stream",
     "text": [
      "downloading pretrained BERT model (uncased_L-12_H-768_A-12.zip)...\n",
      "[██████████████████████████████████████████████████]\n",
      "extracting pretrained BERT model...\n",
      "done.\n",
      "\n",
      "cleanup downloaded zip...\n",
      "done.\n",
      "\n",
      "preprocessing train...\n",
      "language: en\n"
     ]
    },
    {
     "data": {
      "text/html": [
       "done."
      ],
      "text/plain": [
       "<IPython.core.display.HTML object>"
      ]
     },
     "metadata": {
      "tags": []
     },
     "output_type": "display_data"
    },
    {
     "name": "stdout",
     "output_type": "stream",
     "text": [
      "Is Multi-Label? False\n",
      "preprocessing test...\n",
      "language: en\n"
     ]
    },
    {
     "data": {
      "text/html": [
       "done."
      ],
      "text/plain": [
       "<IPython.core.display.HTML object>"
      ]
     },
     "metadata": {
      "tags": []
     },
     "output_type": "display_data"
    },
    {
     "name": "stdout",
     "output_type": "stream",
     "text": [
      "task: text classification\n"
     ]
    }
   ],
   "source": [
    "(x_train_bert,  y_train_bert), (x_val_bert, y_val_bert), preproc = text.texts_from_array(x_train=x_train, y_train=y_train,\n",
    "                                                                                          x_test=x_val, y_test=y_val,\n",
    "                                                                                          class_names=Y_feat_names,\n",
    "                                                                                          preprocess_mode='bert',\n",
    "                                                                                          lang='en',\n",
    "                                                                                          maxlen=350, \n",
    "                                                                                          max_features=35000)"
   ]
  },
  {
   "cell_type": "markdown",
   "metadata": {
    "id": "62qDldW8abTn"
   },
   "source": [
    "## STEP 3:  Load the BERT Model and Instantiate a Learner object\n"
   ]
  },
  {
   "cell_type": "code",
   "execution_count": null,
   "metadata": {
    "colab": {
     "base_uri": "https://localhost:8080/"
    },
    "executionInfo": {
     "elapsed": 11872,
     "status": "ok",
     "timestamp": 1611089521778,
     "user": {
      "displayName": "Livio Bioglio",
      "photoUrl": "https://lh3.googleusercontent.com/a-/AOh14GiwMdoiTEqY0ghbXy43TVUuBdAFmuLV0G_5FOl6=s64",
      "userId": "15794955782072516856"
     },
     "user_tz": -60
    },
    "id": "dUgdOiVfabTn",
    "outputId": "840ad660-cb8f-4ccd-9229-1a2088864aee"
   },
   "outputs": [
    {
     "name": "stdout",
     "output_type": "stream",
     "text": [
      "Is Multi-Label? False\n",
      "maxlen is 350\n",
      "done.\n"
     ]
    }
   ],
   "source": [
    "model = text.text_classifier('bert', train_data=(x_train_bert, y_train_bert), preproc=preproc)\n",
    "learner = ktrain.get_learner(model, train_data=(x_train_bert, y_train_bert), val_data=(x_val_bert, y_val_bert), batch_size=6)\n"
   ]
  },
  {
   "cell_type": "markdown",
   "metadata": {
    "id": "fx-WsKnIabTo"
   },
   "source": [
    "## STEP 4: Train the Model\n"
   ]
  },
  {
   "cell_type": "code",
   "execution_count": null,
   "metadata": {
    "colab": {
     "base_uri": "https://localhost:8080/"
    },
    "executionInfo": {
     "elapsed": 2675157,
     "status": "ok",
     "timestamp": 1611092198979,
     "user": {
      "displayName": "Livio Bioglio",
      "photoUrl": "https://lh3.googleusercontent.com/a-/AOh14GiwMdoiTEqY0ghbXy43TVUuBdAFmuLV0G_5FOl6=s64",
      "userId": "15794955782072516856"
     },
     "user_tz": -60
    },
    "id": "2b3Q81LjabTp",
    "outputId": "92325d1f-2dc2-44e6-c73d-e4b28fde57ab"
   },
   "outputs": [
    {
     "name": "stdout",
     "output_type": "stream",
     "text": [
      "early_stopping automatically enabled at patience=5\n",
      "reduce_on_plateau automatically enabled at patience=2\n",
      "\n",
      "\n",
      "begin training using triangular learning rate policy with max lr of 5e-05...\n",
      "Epoch 1/1024\n",
      "506/506 [==============================] - 398s 757ms/step - loss: 0.4617 - accuracy: 0.7641 - val_loss: 0.2024 - val_accuracy: 0.9175\n",
      "Epoch 2/1024\n",
      "506/506 [==============================] - 382s 754ms/step - loss: 0.1148 - accuracy: 0.9629 - val_loss: 0.1938 - val_accuracy: 0.9208\n",
      "Epoch 3/1024\n",
      "506/506 [==============================] - 383s 758ms/step - loss: 0.0499 - accuracy: 0.9862 - val_loss: 0.2333 - val_accuracy: 0.9158\n",
      "Epoch 4/1024\n",
      "506/506 [==============================] - 380s 751ms/step - loss: 0.0395 - accuracy: 0.9877 - val_loss: 0.2867 - val_accuracy: 0.9224\n",
      "\n",
      "Epoch 00004: Reducing Max LR on Plateau: new max lr will be 2.5e-05 (if not early_stopping).\n",
      "Epoch 5/1024\n",
      "506/506 [==============================] - 377s 746ms/step - loss: 0.0099 - accuracy: 0.9960 - val_loss: 0.3528 - val_accuracy: 0.9208\n",
      "Epoch 6/1024\n",
      "506/506 [==============================] - 377s 744ms/step - loss: 0.0145 - accuracy: 0.9937 - val_loss: 0.3424 - val_accuracy: 0.9208\n",
      "\n",
      "Epoch 00006: Reducing Max LR on Plateau: new max lr will be 1.25e-05 (if not early_stopping).\n",
      "Epoch 7/1024\n",
      "506/506 [==============================] - 377s 745ms/step - loss: 7.8964e-04 - accuracy: 1.0000 - val_loss: 0.3670 - val_accuracy: 0.9158\n",
      "Restoring model weights from the end of the best epoch.\n",
      "Epoch 00007: early stopping\n",
      "Weights from best epoch have been loaded into model.\n"
     ]
    },
    {
     "data": {
      "text/plain": [
       "<tensorflow.python.keras.callbacks.History at 0x7fe13b75d9e8>"
      ]
     },
     "execution_count": 11,
     "metadata": {
      "tags": []
     },
     "output_type": "execute_result"
    }
   ],
   "source": [
    "learner.autofit(5e-5)"
   ]
  },
  {
   "cell_type": "code",
   "execution_count": null,
   "metadata": {
    "colab": {
     "base_uri": "https://localhost:8080/",
     "height": 295
    },
    "executionInfo": {
     "elapsed": 1110,
     "status": "ok",
     "timestamp": 1611092203810,
     "user": {
      "displayName": "Livio Bioglio",
      "photoUrl": "https://lh3.googleusercontent.com/a-/AOh14GiwMdoiTEqY0ghbXy43TVUuBdAFmuLV0G_5FOl6=s64",
      "userId": "15794955782072516856"
     },
     "user_tz": -60
    },
    "id": "mnpj-0t3abTp",
    "outputId": "e51d35d2-f8a8-4cb0-9535-d0231076ab72"
   },
   "outputs": [
    {
     "data": {
      "image/png": "[encoded data removed]",
      "text/plain": [
       "<Figure size 432x288 with 1 Axes>"
      ]
     },
     "metadata": {
      "needs_background": "light",
      "tags": []
     },
     "output_type": "display_data"
    }
   ],
   "source": [
    "learner.plot()"
   ]
  },
  {
   "cell_type": "code",
   "execution_count": null,
   "metadata": {
    "colab": {
     "base_uri": "https://localhost:8080/",
     "height": 425
    },
    "executionInfo": {
     "elapsed": 21865,
     "status": "ok",
     "timestamp": 1611092230767,
     "user": {
      "displayName": "Livio Bioglio",
      "photoUrl": "https://lh3.googleusercontent.com/a-/AOh14GiwMdoiTEqY0ghbXy43TVUuBdAFmuLV0G_5FOl6=s64",
      "userId": "15794955782072516856"
     },
     "user_tz": -60
    },
    "id": "REyn9VOlabTq",
    "outputId": "86230f35-773d-4429-b366-5c89444eb740"
   },
   "outputs": [
    {
     "name": "stdout",
     "output_type": "stream",
     "text": [
      "              precision    recall  f1-score   support\n",
      "\n",
      "           0       0.95      0.92      0.94       390\n",
      "           1       0.87      0.92      0.89       216\n",
      "\n",
      "    accuracy                           0.92       606\n",
      "   macro avg       0.91      0.92      0.91       606\n",
      "weighted avg       0.92      0.92      0.92       606\n",
      "\n"
     ]
    },
    {
     "data": {
      "image/png": "[encoded data removed]",
      "text/plain": [
       "<Figure size 432x288 with 2 Axes>"
      ]
     },
     "metadata": {
      "needs_background": "light",
      "tags": []
     },
     "output_type": "display_data"
    }
   ],
   "source": [
    "df_val = learner.evaluate()\n",
    "plot_confusion_matrix_from_cmat(df_val, normalize=True, labels=Y_feat_names)\n"
   ]
  },
  {
   "cell_type": "code",
   "execution_count": null,
   "metadata": {
    "id": "AYm-JdacabTq"
   },
   "outputs": [],
   "source": [
    "predictor = ktrain.get_predictor(learner.model, preproc)\n",
    "# save\n",
    "predictor.save(models_path+\"sensitag_BERT_ann\"+str(ann))\n"
   ]
  },
  {
   "cell_type": "markdown",
   "metadata": {
    "id": "CfIxgGCMabTr"
   },
   "source": [
    "## STEP 5: Test the Model\n"
   ]
  },
  {
   "cell_type": "code",
   "execution_count": null,
   "metadata": {
    "colab": {
     "base_uri": "https://localhost:8080/",
     "height": 425
    },
    "executionInfo": {
     "elapsed": 13256,
     "status": "ok",
     "timestamp": 1611092318696,
     "user": {
      "displayName": "Livio Bioglio",
      "photoUrl": "https://lh3.googleusercontent.com/a-/AOh14GiwMdoiTEqY0ghbXy43TVUuBdAFmuLV0G_5FOl6=s64",
      "userId": "15794955782072516856"
     },
     "user_tz": -60
    },
    "id": "xXj-RLlIabTr",
    "outputId": "3b1a4813-b621-45dc-f058-eebdf2487422"
   },
   "outputs": [
    {
     "name": "stdout",
     "output_type": "stream",
     "text": [
      "              precision    recall  f1-score   support\n",
      "\n",
      "          ns       0.92      0.92      0.92       260\n",
      "        sens       0.85      0.85      0.85       144\n",
      "\n",
      "    accuracy                           0.90       404\n",
      "   macro avg       0.89      0.89      0.89       404\n",
      "weighted avg       0.90      0.90      0.90       404\n",
      "\n"
     ]
    },
    {
     "data": {
      "image/png": "[encoded data removed]",
      "text/plain": [
       "<Figure size 432x288 with 2 Axes>"
      ]
     },
     "metadata": {
      "needs_background": "light",
      "tags": []
     },
     "output_type": "display_data"
    }
   ],
   "source": [
    "# validation on test set\n",
    "x_test_bert = preproc.preprocess(x_test)\n",
    "df_test = learner.validate(val_data=(x_test_bert, y_test), class_names=Y_feat_names)\n",
    "plot_confusion_matrix_from_cmat(df_test, normalize=True, labels=Y_feat_names)\n"
   ]
  },
  {
   "cell_type": "code",
   "execution_count": null,
   "metadata": {
    "colab": {
     "base_uri": "https://localhost:8080/",
     "height": 81
    },
    "executionInfo": {
     "elapsed": 29502,
     "status": "ok",
     "timestamp": 1611092422141,
     "user": {
      "displayName": "Livio Bioglio",
      "photoUrl": "https://lh3.googleusercontent.com/a-/AOh14GiwMdoiTEqY0ghbXy43TVUuBdAFmuLV0G_5FOl6=s64",
      "userId": "15794955782072516856"
     },
     "user_tz": -60
    },
    "id": "N3j1qZwvabTs",
    "outputId": "c30597ae-955d-4d32-d353-3af3a9879824"
   },
   "outputs": [
    {
     "data": {
      "text/html": [
       "<div>\n",
       "<style scoped>\n",
       "    .dataframe tbody tr th:only-of-type {\n",
       "        vertical-align: middle;\n",
       "    }\n",
       "\n",
       "    .dataframe tbody tr th {\n",
       "        vertical-align: top;\n",
       "    }\n",
       "\n",
       "    .dataframe thead th {\n",
       "        text-align: right;\n",
       "    }\n",
       "</style>\n",
       "<table border=\"1\" class=\"dataframe\">\n",
       "  <thead>\n",
       "    <tr style=\"text-align: right;\">\n",
       "      <th></th>\n",
       "      <th>accuracy</th>\n",
       "      <th>precision_ns</th>\n",
       "      <th>precision_sens</th>\n",
       "      <th>recall_ns</th>\n",
       "      <th>recall_sens</th>\n",
       "      <th>f1_ns</th>\n",
       "      <th>f1_sens</th>\n",
       "      <th>f1-micro</th>\n",
       "      <th>f1-macro</th>\n",
       "      <th>set</th>\n",
       "      <th>ann</th>\n",
       "    </tr>\n",
       "  </thead>\n",
       "  <tbody>\n",
       "    <tr>\n",
       "      <th>0</th>\n",
       "      <td>0.89604</td>\n",
       "      <td>0.919231</td>\n",
       "      <td>0.854167</td>\n",
       "      <td>0.919231</td>\n",
       "      <td>0.854167</td>\n",
       "      <td>0.919231</td>\n",
       "      <td>0.854167</td>\n",
       "      <td>0.89604</td>\n",
       "      <td>0.886699</td>\n",
       "      <td>test</td>\n",
       "      <td>3</td>\n",
       "    </tr>\n",
       "  </tbody>\n",
       "</table>\n",
       "</div>"
      ],
      "text/plain": [
       "   accuracy  precision_ns  precision_sens  ...  f1-macro   set  ann\n",
       "0   0.89604      0.919231        0.854167  ...  0.886699  test    3\n",
       "\n",
       "[1 rows x 11 columns]"
      ]
     },
     "execution_count": 19,
     "metadata": {
      "tags": []
     },
     "output_type": "execute_result"
    }
   ],
   "source": [
    "met_dict = []\n",
    "\n",
    "y_test_feat = [Y_feat_names[0] if x[0] == 1 else Y_feat_names[1] for x in y_test]\n",
    "y_pred_feat = [predict_class_BERT_2(x, predictor, Y_feat_names) for x in x_test]\n",
    "met_dict_loc = get_metrics(y_test_feat, y_pred_feat, Y_feat_names)\n",
    "met_dict_loc[\"set\"] = \"test\"\n",
    "met_dict_loc[\"ann\"] = ann\n",
    "met_dict.append(met_dict_loc)\n",
    "pd.DataFrame(met_dict)\n"
   ]
  },
  {
   "cell_type": "markdown",
   "metadata": {
    "id": "88t12tiyabTt"
   },
   "source": [
    "## STEP : Test the Model on other datasets\n"
   ]
  },
  {
   "cell_type": "code",
   "execution_count": null,
   "metadata": {
    "id": "YHizCr-EpMaa"
   },
   "outputs": [],
   "source": [
    "# reload the predictor\n",
    "ann = 3\n",
    "predictor = ktrain.load_predictor(models_path+\"sensitag_BERT_ann\"+str(ann))"
   ]
  },
  {
   "cell_type": "code",
   "execution_count": null,
   "metadata": {
    "colab": {
     "base_uri": "https://localhost:8080/",
     "height": 80
    },
    "executionInfo": {
     "elapsed": 35193,
     "status": "ok",
     "timestamp": 1611127602229,
     "user": {
      "displayName": "Livio Bioglio",
      "photoUrl": "https://lh3.googleusercontent.com/a-/AOh14GiwMdoiTEqY0ghbXy43TVUuBdAFmuLV0G_5FOl6=s64",
      "userId": "15794955782072516856"
     },
     "user_tz": -60
    },
    "id": "saSj1lB4pdZ3",
    "outputId": "ca000f3e-ca71-45a0-8d19-b6fff419551f"
   },
   "outputs": [
    {
     "data": {
      "text/html": [
       "<div>\n",
       "<style scoped>\n",
       "    .dataframe tbody tr th:only-of-type {\n",
       "        vertical-align: middle;\n",
       "    }\n",
       "\n",
       "    .dataframe tbody tr th {\n",
       "        vertical-align: top;\n",
       "    }\n",
       "\n",
       "    .dataframe thead th {\n",
       "        text-align: right;\n",
       "    }\n",
       "</style>\n",
       "<table border=\"1\" class=\"dataframe\">\n",
       "  <thead>\n",
       "    <tr style=\"text-align: right;\">\n",
       "      <th></th>\n",
       "      <th>accuracy</th>\n",
       "      <th>precision_ns</th>\n",
       "      <th>precision_sens</th>\n",
       "      <th>recall_ns</th>\n",
       "      <th>recall_sens</th>\n",
       "      <th>f1_ns</th>\n",
       "      <th>f1_sens</th>\n",
       "      <th>f1-micro</th>\n",
       "      <th>f1-macro</th>\n",
       "      <th>set</th>\n",
       "      <th>ann</th>\n",
       "    </tr>\n",
       "  </thead>\n",
       "  <tbody>\n",
       "    <tr>\n",
       "      <th>0</th>\n",
       "      <td>0.89604</td>\n",
       "      <td>0.919231</td>\n",
       "      <td>0.854167</td>\n",
       "      <td>0.919231</td>\n",
       "      <td>0.854167</td>\n",
       "      <td>0.919231</td>\n",
       "      <td>0.854167</td>\n",
       "      <td>0.89604</td>\n",
       "      <td>0.886699</td>\n",
       "      <td>test</td>\n",
       "      <td>3</td>\n",
       "    </tr>\n",
       "  </tbody>\n",
       "</table>\n",
       "</div>"
      ],
      "text/plain": [
       "   accuracy  precision_ns  precision_sens  ...  f1-macro   set  ann\n",
       "0   0.89604      0.919231        0.854167  ...  0.886699  test    3\n",
       "\n",
       "[1 rows x 11 columns]"
      ]
     },
     "execution_count": 13,
     "metadata": {
      "tags": []
     },
     "output_type": "execute_result"
    }
   ],
   "source": [
    "met_dict = []\n",
    "\n",
    "y_test_feat = [Y_feat_names[0] if x[0] == 1 else Y_feat_names[1] for x in y_test]\n",
    "y_pred_feat = [predict_class_BERT_2(x, predictor, Y_feat_names) for x in x_test]\n",
    "met_dict_loc = get_metrics(y_test_feat, y_pred_feat, Y_feat_names)\n",
    "met_dict_loc[\"set\"] = \"test\"\n",
    "met_dict_loc[\"ann\"] = ann\n",
    "met_dict.append(met_dict_loc)\n",
    "pd.DataFrame(met_dict)"
   ]
  },
  {
   "cell_type": "code",
   "execution_count": null,
   "metadata": {
    "colab": {
     "base_uri": "https://localhost:8080/",
     "height": 560
    },
    "executionInfo": {
     "elapsed": 5926670,
     "status": "ok",
     "timestamp": 1611134198953,
     "user": {
      "displayName": "Livio Bioglio",
      "photoUrl": "https://lh3.googleusercontent.com/a-/AOh14GiwMdoiTEqY0ghbXy43TVUuBdAFmuLV0G_5FOl6=s64",
      "userId": "15794955782072516856"
     },
     "user_tz": -60
    },
    "id": "Wf6Np-iyabTu",
    "outputId": "42d1f268-0832-4e27-eeba-d7b95c69e299"
   },
   "outputs": [
    {
     "name": "stdout",
     "output_type": "stream",
     "text": [
      "sample 1\n",
      "sample 2\n",
      "sample 3\n",
      "sample 4\n",
      "sample 5\n",
      "sample 6\n",
      "sample 7\n",
      "sample 8\n",
      "sample 9\n",
      "sample 10\n"
     ]
    },
    {
     "data": {
      "text/html": [
       "<div>\n",
       "<style scoped>\n",
       "    .dataframe tbody tr th:only-of-type {\n",
       "        vertical-align: middle;\n",
       "    }\n",
       "\n",
       "    .dataframe tbody tr th {\n",
       "        vertical-align: top;\n",
       "    }\n",
       "\n",
       "    .dataframe thead th {\n",
       "        text-align: right;\n",
       "    }\n",
       "</style>\n",
       "<table border=\"1\" class=\"dataframe\">\n",
       "  <thead>\n",
       "    <tr style=\"text-align: right;\">\n",
       "      <th></th>\n",
       "      <th>accuracy</th>\n",
       "      <th>precision_ns</th>\n",
       "      <th>precision_sens</th>\n",
       "      <th>recall_ns</th>\n",
       "      <th>recall_sens</th>\n",
       "      <th>f1_ns</th>\n",
       "      <th>f1_sens</th>\n",
       "      <th>f1-micro</th>\n",
       "      <th>f1-macro</th>\n",
       "      <th>set</th>\n",
       "      <th>ann</th>\n",
       "    </tr>\n",
       "  </thead>\n",
       "  <tbody>\n",
       "    <tr>\n",
       "      <th>0</th>\n",
       "      <td>0.896040</td>\n",
       "      <td>0.919231</td>\n",
       "      <td>0.854167</td>\n",
       "      <td>0.919231</td>\n",
       "      <td>0.854167</td>\n",
       "      <td>0.919231</td>\n",
       "      <td>0.854167</td>\n",
       "      <td>0.896040</td>\n",
       "      <td>0.886699</td>\n",
       "      <td>test</td>\n",
       "      <td>3</td>\n",
       "    </tr>\n",
       "    <tr>\n",
       "      <th>1</th>\n",
       "      <td>0.583001</td>\n",
       "      <td>0.632586</td>\n",
       "      <td>0.423133</td>\n",
       "      <td>0.779517</td>\n",
       "      <td>0.263189</td>\n",
       "      <td>0.698407</td>\n",
       "      <td>0.324524</td>\n",
       "      <td>0.583001</td>\n",
       "      <td>0.511466</td>\n",
       "      <td>1</td>\n",
       "      <td>3</td>\n",
       "    </tr>\n",
       "    <tr>\n",
       "      <th>2</th>\n",
       "      <td>0.583001</td>\n",
       "      <td>0.634353</td>\n",
       "      <td>0.426260</td>\n",
       "      <td>0.771413</td>\n",
       "      <td>0.276379</td>\n",
       "      <td>0.696201</td>\n",
       "      <td>0.335334</td>\n",
       "      <td>0.583001</td>\n",
       "      <td>0.515768</td>\n",
       "      <td>2</td>\n",
       "      <td>3</td>\n",
       "    </tr>\n",
       "    <tr>\n",
       "      <th>3</th>\n",
       "      <td>0.578209</td>\n",
       "      <td>0.629952</td>\n",
       "      <td>0.414089</td>\n",
       "      <td>0.773255</td>\n",
       "      <td>0.260791</td>\n",
       "      <td>0.694286</td>\n",
       "      <td>0.320029</td>\n",
       "      <td>0.578209</td>\n",
       "      <td>0.507158</td>\n",
       "      <td>3</td>\n",
       "      <td>3</td>\n",
       "    </tr>\n",
       "    <tr>\n",
       "      <th>4</th>\n",
       "      <td>0.585625</td>\n",
       "      <td>0.635418</td>\n",
       "      <td>0.430516</td>\n",
       "      <td>0.776570</td>\n",
       "      <td>0.274880</td>\n",
       "      <td>0.698939</td>\n",
       "      <td>0.335529</td>\n",
       "      <td>0.585625</td>\n",
       "      <td>0.517234</td>\n",
       "      <td>4</td>\n",
       "      <td>3</td>\n",
       "    </tr>\n",
       "    <tr>\n",
       "      <th>5</th>\n",
       "      <td>0.576726</td>\n",
       "      <td>0.630961</td>\n",
       "      <td>0.415077</td>\n",
       "      <td>0.762756</td>\n",
       "      <td>0.273981</td>\n",
       "      <td>0.690627</td>\n",
       "      <td>0.330083</td>\n",
       "      <td>0.576726</td>\n",
       "      <td>0.510355</td>\n",
       "      <td>5</td>\n",
       "      <td>3</td>\n",
       "    </tr>\n",
       "    <tr>\n",
       "      <th>6</th>\n",
       "      <td>0.582886</td>\n",
       "      <td>0.632690</td>\n",
       "      <td>0.423225</td>\n",
       "      <td>0.778596</td>\n",
       "      <td>0.264388</td>\n",
       "      <td>0.698101</td>\n",
       "      <td>0.325461</td>\n",
       "      <td>0.582886</td>\n",
       "      <td>0.511781</td>\n",
       "      <td>6</td>\n",
       "      <td>3</td>\n",
       "    </tr>\n",
       "    <tr>\n",
       "      <th>7</th>\n",
       "      <td>0.575699</td>\n",
       "      <td>0.628301</td>\n",
       "      <td>0.408853</td>\n",
       "      <td>0.771229</td>\n",
       "      <td>0.257494</td>\n",
       "      <td>0.692467</td>\n",
       "      <td>0.315983</td>\n",
       "      <td>0.575699</td>\n",
       "      <td>0.504225</td>\n",
       "      <td>7</td>\n",
       "      <td>3</td>\n",
       "    </tr>\n",
       "    <tr>\n",
       "      <th>8</th>\n",
       "      <td>0.577981</td>\n",
       "      <td>0.629530</td>\n",
       "      <td>0.413033</td>\n",
       "      <td>0.774360</td>\n",
       "      <td>0.258393</td>\n",
       "      <td>0.694474</td>\n",
       "      <td>0.317905</td>\n",
       "      <td>0.577981</td>\n",
       "      <td>0.506190</td>\n",
       "      <td>8</td>\n",
       "      <td>3</td>\n",
       "    </tr>\n",
       "    <tr>\n",
       "      <th>9</th>\n",
       "      <td>0.586994</td>\n",
       "      <td>0.635872</td>\n",
       "      <td>0.432638</td>\n",
       "      <td>0.779702</td>\n",
       "      <td>0.273381</td>\n",
       "      <td>0.700480</td>\n",
       "      <td>0.335048</td>\n",
       "      <td>0.586994</td>\n",
       "      <td>0.517764</td>\n",
       "      <td>9</td>\n",
       "      <td>3</td>\n",
       "    </tr>\n",
       "    <tr>\n",
       "      <th>10</th>\n",
       "      <td>0.580833</td>\n",
       "      <td>0.630561</td>\n",
       "      <td>0.417319</td>\n",
       "      <td>0.780623</td>\n",
       "      <td>0.255695</td>\n",
       "      <td>0.697613</td>\n",
       "      <td>0.317100</td>\n",
       "      <td>0.580833</td>\n",
       "      <td>0.507357</td>\n",
       "      <td>10</td>\n",
       "      <td>3</td>\n",
       "    </tr>\n",
       "  </tbody>\n",
       "</table>\n",
       "</div>"
      ],
      "text/plain": [
       "    accuracy  precision_ns  precision_sens  ...  f1-macro   set  ann\n",
       "0   0.896040      0.919231        0.854167  ...  0.886699  test    3\n",
       "1   0.583001      0.632586        0.423133  ...  0.511466     1    3\n",
       "2   0.583001      0.634353        0.426260  ...  0.515768     2    3\n",
       "3   0.578209      0.629952        0.414089  ...  0.507158     3    3\n",
       "4   0.585625      0.635418        0.430516  ...  0.517234     4    3\n",
       "5   0.576726      0.630961        0.415077  ...  0.510355     5    3\n",
       "6   0.582886      0.632690        0.423225  ...  0.511781     6    3\n",
       "7   0.575699      0.628301        0.408853  ...  0.504225     7    3\n",
       "8   0.577981      0.629530        0.413033  ...  0.506190     8    3\n",
       "9   0.586994      0.635872        0.432638  ...  0.517764     9    3\n",
       "10  0.580833      0.630561        0.417319  ...  0.507357    10    3\n",
       "\n",
       "[11 rows x 11 columns]"
      ]
     },
     "execution_count": 14,
     "metadata": {
      "tags": []
     },
     "output_type": "execute_result"
    }
   ],
   "source": [
    "for index in range(10):\n",
    "    print(\"sample\", (index+1))\n",
    "    test_loc = pd.read_csv(data_path+dataset_wt_filename+((\"0\"+str(index+1))[-2:])+\".csv\")\n",
    "    x_test_loc = test_loc[\"text\"].tolist()\n",
    "    y_test_feat = test_loc[\"class\"].tolist()\n",
    "    #y_test_feat = [Y_feat_names[0] if x[0] == 1 else Y_feat_names[1] for x in y_test_loc]\n",
    "    y_pred_feat = [predict_class_BERT_2(x, predictor, Y_feat_names) for x in x_test_loc]\n",
    "    met_dict_loc = get_metrics(y_test_feat, y_pred_feat, Y_feat_names)\n",
    "    met_dict_loc[\"set\"] = str(index+1)\n",
    "    met_dict_loc[\"ann\"] = ann\n",
    "    #print(met_dict_loc)\n",
    "    met_dict.append(met_dict_loc)\n",
    "pd.DataFrame(met_dict)"
   ]
  },
  {
   "cell_type": "code",
   "execution_count": null,
   "metadata": {
    "id": "ekDzEMQAFqZS"
   },
   "outputs": [],
   "source": [
    "pd.DataFrame(met_dict).to_csv(results_path+\"00 - Sensitag-BERT - our/ann3.csv\")"
   ]
  },
  {
   "cell_type": "code",
   "execution_count": null,
   "metadata": {
    "id": "n1BoNaNSZ_L4"
   },
   "outputs": [],
   "source": [
    "# reload the predictor\n",
    "ann = 3\n",
    "predictor = ktrain.load_predictor(models_path+\"sensitag_BERT_ann\"+str(ann))"
   ]
  },
  {
   "cell_type": "code",
   "execution_count": null,
   "metadata": {
    "colab": {
     "base_uri": "https://localhost:8080/",
     "height": 80
    },
    "executionInfo": {
     "elapsed": 652462,
     "status": "ok",
     "timestamp": 1611190675455,
     "user": {
      "displayName": "Livio Bioglio",
      "photoUrl": "https://lh3.googleusercontent.com/a-/AOh14GiwMdoiTEqY0ghbXy43TVUuBdAFmuLV0G_5FOl6=s64",
      "userId": "15794955782072516856"
     },
     "user_tz": -60
    },
    "id": "8v3uzkVnZ_MA",
    "outputId": "a83c7951-1da2-4229-e24f-ddd7694b51b2"
   },
   "outputs": [
    {
     "data": {
      "text/html": [
       "<div>\n",
       "<style scoped>\n",
       "    .dataframe tbody tr th:only-of-type {\n",
       "        vertical-align: middle;\n",
       "    }\n",
       "\n",
       "    .dataframe tbody tr th {\n",
       "        vertical-align: top;\n",
       "    }\n",
       "\n",
       "    .dataframe thead th {\n",
       "        text-align: right;\n",
       "    }\n",
       "</style>\n",
       "<table border=\"1\" class=\"dataframe\">\n",
       "  <thead>\n",
       "    <tr style=\"text-align: right;\">\n",
       "      <th></th>\n",
       "      <th>accuracy</th>\n",
       "      <th>precision_ns</th>\n",
       "      <th>precision_sens</th>\n",
       "      <th>recall_ns</th>\n",
       "      <th>recall_sens</th>\n",
       "      <th>f1_ns</th>\n",
       "      <th>f1_sens</th>\n",
       "      <th>f1-micro</th>\n",
       "      <th>f1-macro</th>\n",
       "      <th>set</th>\n",
       "      <th>ann</th>\n",
       "    </tr>\n",
       "  </thead>\n",
       "  <tbody>\n",
       "    <tr>\n",
       "      <th>0</th>\n",
       "      <td>0.8251</td>\n",
       "      <td>0.849354</td>\n",
       "      <td>0.78269</td>\n",
       "      <td>0.872352</td>\n",
       "      <td>0.748201</td>\n",
       "      <td>0.8607</td>\n",
       "      <td>0.765057</td>\n",
       "      <td>0.8251</td>\n",
       "      <td>0.812879</td>\n",
       "      <td>ann2</td>\n",
       "      <td>3</td>\n",
       "    </tr>\n",
       "  </tbody>\n",
       "</table>\n",
       "</div>"
      ],
      "text/plain": [
       "   accuracy  precision_ns  precision_sens  ...  f1-macro   set  ann\n",
       "0    0.8251      0.849354         0.78269  ...  0.812879  ann2    3\n",
       "\n",
       "[1 rows x 11 columns]"
      ]
     },
     "execution_count": 12,
     "metadata": {
      "tags": []
     },
     "output_type": "execute_result"
    }
   ],
   "source": [
    "other_ann = 2\n",
    "\n",
    "# get data\n",
    "data_loc = get_data(data_path+\"annotation_results.csv\", lim=other_ann)\n",
    "data_loc = get_two_classes(data_loc)\n",
    "x_test_loc = data_loc[\"text\"].tolist()\n",
    "y_test_feat = data_loc[\"class\"].tolist()\n",
    "y_pred_feat = [predict_class_BERT_2(x, predictor, Y_feat_names) for x in x_test_loc]\n",
    "met_dict_loc = get_metrics(y_test_feat, y_pred_feat, Y_feat_names)\n",
    "met_dict_loc[\"set\"] = \"ann\"+str(other_ann)\n",
    "met_dict_loc[\"ann\"] = ann\n",
    "#met_dict.append(met_dict_loc)\n",
    "#pd.DataFrame(met_dict)\n",
    "pd.DataFrame([met_dict_loc])"
   ]
  },
  {
   "cell_type": "markdown",
   "metadata": {
    "id": "M9HOjNYwgdYr"
   },
   "source": [
    "## Co-occurrences on mini test"
   ]
  },
  {
   "cell_type": "code",
   "execution_count": 9,
   "metadata": {
    "colab": {
     "base_uri": "https://localhost:8080/",
     "height": 80
    },
    "executionInfo": {
     "elapsed": 16875,
     "status": "ok",
     "timestamp": 1615839426593,
     "user": {
      "displayName": "Livio Bioglio",
      "photoUrl": "https://lh3.googleusercontent.com/a-/AOh14GiwMdoiTEqY0ghbXy43TVUuBdAFmuLV0G_5FOl6=s64",
      "userId": "15794955782072516856"
     },
     "user_tz": -60
    },
    "id": "bS8_Qi_jHRKg",
    "outputId": "f3e74463-f4ae-4302-c3f8-d3fcc009b4b7"
   },
   "outputs": [
    {
     "data": {
      "text/html": [
       "<div>\n",
       "<style scoped>\n",
       "    .dataframe tbody tr th:only-of-type {\n",
       "        vertical-align: middle;\n",
       "    }\n",
       "\n",
       "    .dataframe tbody tr th {\n",
       "        vertical-align: top;\n",
       "    }\n",
       "\n",
       "    .dataframe thead th {\n",
       "        text-align: right;\n",
       "    }\n",
       "</style>\n",
       "<table border=\"1\" class=\"dataframe\">\n",
       "  <thead>\n",
       "    <tr style=\"text-align: right;\">\n",
       "      <th></th>\n",
       "      <th>accuracy</th>\n",
       "      <th>precision_ns</th>\n",
       "      <th>precision_sens</th>\n",
       "      <th>recall_ns</th>\n",
       "      <th>recall_sens</th>\n",
       "      <th>f1_ns</th>\n",
       "      <th>f1_sens</th>\n",
       "      <th>f1-micro</th>\n",
       "      <th>f1-macro</th>\n",
       "      <th>set</th>\n",
       "      <th>ann</th>\n",
       "    </tr>\n",
       "  </thead>\n",
       "  <tbody>\n",
       "    <tr>\n",
       "      <th>0</th>\n",
       "      <td>0.944444</td>\n",
       "      <td>0.944444</td>\n",
       "      <td>0.944444</td>\n",
       "      <td>0.971429</td>\n",
       "      <td>0.894737</td>\n",
       "      <td>0.957746</td>\n",
       "      <td>0.918919</td>\n",
       "      <td>0.944444</td>\n",
       "      <td>0.938333</td>\n",
       "      <td>ann3</td>\n",
       "      <td>2</td>\n",
       "    </tr>\n",
       "  </tbody>\n",
       "</table>\n",
       "</div>"
      ],
      "text/plain": [
       "   accuracy  precision_ns  precision_sens  ...  f1-macro   set  ann\n",
       "0  0.944444      0.944444        0.944444  ...  0.938333  ann3    2\n",
       "\n",
       "[1 rows x 11 columns]"
      ]
     },
     "execution_count": 9,
     "metadata": {
      "tags": []
     },
     "output_type": "execute_result"
    }
   ],
   "source": [
    "ann = 2\n",
    "other_ann = 3\n",
    "Y_feat_names = [\"ns\", \"sens\"]\n",
    "\n",
    "# reload the predictor\n",
    "predictor = ktrain.load_predictor(models_path+\"sensitag_BERT_ann\"+str(ann))\n",
    "# get data\n",
    "test_loc_2 = pd.read_csv(data_path+dataset_our_filename+str(other_ann)+\"_test-notrains\"+str(ann)+\".csv\")\n",
    "x_test_loc = test_loc_2[\"text\"].tolist()\n",
    "y_test_feat = test_loc_2[\"class\"].tolist()\n",
    "y_pred_feat = [predict_class_BERT_2(x, predictor, Y_feat_names) for x in x_test_loc]\n",
    "met_dict_loc = get_metrics(y_test_feat, y_pred_feat, Y_feat_names)\n",
    "met_dict_loc[\"set\"] = \"ann\"+str(other_ann)\n",
    "met_dict_loc[\"ann\"] = ann\n",
    "#met_dict.append(met_dict_loc)\n",
    "#pd.DataFrame(met_dict)\n",
    "pd.DataFrame([met_dict_loc])"
   ]
  },
  {
   "cell_type": "code",
   "execution_count": 10,
   "metadata": {
    "colab": {
     "base_uri": "https://localhost:8080/",
     "height": 80
    },
    "executionInfo": {
     "elapsed": 67616,
     "status": "ok",
     "timestamp": 1615839584160,
     "user": {
      "displayName": "Livio Bioglio",
      "photoUrl": "https://lh3.googleusercontent.com/a-/AOh14GiwMdoiTEqY0ghbXy43TVUuBdAFmuLV0G_5FOl6=s64",
      "userId": "15794955782072516856"
     },
     "user_tz": -60
    },
    "id": "7yIGHeWThjBf",
    "outputId": "8edf3639-545b-4ef3-8ea0-07979f1b1e8d"
   },
   "outputs": [
    {
     "data": {
      "text/html": [
       "<div>\n",
       "<style scoped>\n",
       "    .dataframe tbody tr th:only-of-type {\n",
       "        vertical-align: middle;\n",
       "    }\n",
       "\n",
       "    .dataframe tbody tr th {\n",
       "        vertical-align: top;\n",
       "    }\n",
       "\n",
       "    .dataframe thead th {\n",
       "        text-align: right;\n",
       "    }\n",
       "</style>\n",
       "<table border=\"1\" class=\"dataframe\">\n",
       "  <thead>\n",
       "    <tr style=\"text-align: right;\">\n",
       "      <th></th>\n",
       "      <th>accuracy</th>\n",
       "      <th>precision_ns</th>\n",
       "      <th>precision_sens</th>\n",
       "      <th>recall_ns</th>\n",
       "      <th>recall_sens</th>\n",
       "      <th>f1_ns</th>\n",
       "      <th>f1_sens</th>\n",
       "      <th>f1-micro</th>\n",
       "      <th>f1-macro</th>\n",
       "      <th>set</th>\n",
       "      <th>ann</th>\n",
       "    </tr>\n",
       "  </thead>\n",
       "  <tbody>\n",
       "    <tr>\n",
       "      <th>0</th>\n",
       "      <td>0.737882</td>\n",
       "      <td>0.783333</td>\n",
       "      <td>0.654822</td>\n",
       "      <td>0.805714</td>\n",
       "      <td>0.623188</td>\n",
       "      <td>0.794366</td>\n",
       "      <td>0.638614</td>\n",
       "      <td>0.737882</td>\n",
       "      <td>0.71649</td>\n",
       "      <td>ann2</td>\n",
       "      <td>3</td>\n",
       "    </tr>\n",
       "  </tbody>\n",
       "</table>\n",
       "</div>"
      ],
      "text/plain": [
       "   accuracy  precision_ns  precision_sens  ...  f1-macro   set  ann\n",
       "0  0.737882      0.783333        0.654822  ...   0.71649  ann2    3\n",
       "\n",
       "[1 rows x 11 columns]"
      ]
     },
     "execution_count": 10,
     "metadata": {
      "tags": []
     },
     "output_type": "execute_result"
    }
   ],
   "source": [
    "ann = 3\n",
    "other_ann = 2\n",
    "Y_feat_names = [\"ns\", \"sens\"]\n",
    "\n",
    "# reload the predictor\n",
    "predictor = ktrain.load_predictor(models_path+\"sensitag_BERT_ann\"+str(ann))\n",
    "# get data\n",
    "test_loc_2 = pd.read_csv(data_path+dataset_our_filename+str(other_ann)+\"_test-notrains\"+str(ann)+\".csv\")\n",
    "x_test_loc = test_loc_2[\"text\"].tolist()\n",
    "y_test_feat = test_loc_2[\"class\"].tolist()\n",
    "y_pred_feat = [predict_class_BERT_2(x, predictor, Y_feat_names) for x in x_test_loc]\n",
    "met_dict_loc = get_metrics(y_test_feat, y_pred_feat, Y_feat_names)\n",
    "met_dict_loc[\"set\"] = \"ann\"+str(other_ann)\n",
    "met_dict_loc[\"ann\"] = ann\n",
    "#met_dict.append(met_dict_loc)\n",
    "#pd.DataFrame(met_dict)\n",
    "pd.DataFrame([met_dict_loc])"
   ]
  },
  {
   "cell_type": "code",
   "execution_count": null,
   "metadata": {
    "id": "8JRyRpMehi6-"
   },
   "outputs": [],
   "source": []
  },
  {
   "cell_type": "code",
   "execution_count": null,
   "metadata": {
    "id": "mr5Uw0QYhiy8"
   },
   "outputs": [],
   "source": []
  },
  {
   "cell_type": "code",
   "execution_count": null,
   "metadata": {
    "id": "mBBWzolAHRAJ"
   },
   "outputs": [],
   "source": []
  },
  {
   "cell_type": "code",
   "execution_count": null,
   "metadata": {
    "id": "DALPTLegHQ1q"
   },
   "outputs": [],
   "source": []
  },
  {
   "cell_type": "markdown",
   "metadata": {
    "id": "5PWHTfMgK4rx"
   },
   "source": [
    "## STEP 7: Use the Model"
   ]
  },
  {
   "cell_type": "code",
   "execution_count": null,
   "metadata": {
    "colab": {
     "base_uri": "https://localhost:8080/"
    },
    "executionInfo": {
     "elapsed": 1397,
     "status": "ok",
     "timestamp": 1607439225726,
     "user": {
      "displayName": "Livio Bioglio",
      "photoUrl": "https://lh3.googleusercontent.com/a-/AOh14GiwMdoiTEqY0ghbXy43TVUuBdAFmuLV0G_5FOl6=s64",
      "userId": "15794955782072516856"
     },
     "user_tz": -60
    },
    "id": "VWlxSVWa6yZl",
    "outputId": "9a34d4c2-382d-43cd-dc5e-b009e9c720a0"
   },
   "outputs": [
    {
     "name": "stdout",
     "output_type": "stream",
     "text": [
      "is happy -> ns (ns: 0.7771542 sens: 0.22284576)\n",
      "is tired -> sens (ns: 0.16433205 sens: 0.83566797)\n",
      "is depressed -> sens (ns: 0.14336483 sens: 0.8566352)\n",
      "is back from Spain -> sens (ns: 0.0730244 sens: 0.92697555)\n",
      "is in Spain -> sens (ns: 0.06472975 sens: 0.93527025)\n",
      "loves Spain -> ns (ns: 0.61985654 sens: 0.3801435)\n",
      "is in Italy -> sens (ns: 0.06274815 sens: 0.9372518)\n",
      "loves Italy -> ns (ns: 0.52480716 sens: 0.47519287)\n",
      "is going out -> sens (ns: 0.1119012 sens: 0.8880988)\n",
      "is out -> sens (ns: 0.3319147 sens: 0.66808534)\n",
      "works until 6PM -> sens (ns: 0.10200626 sens: 0.8979938)\n",
      "starts working at 9AM -> sens (ns: 0.10932399 sens: 0.89067596)\n"
     ]
    }
   ],
   "source": [
    "# use the trained model on simple sentences\n",
    "for input_text in [\"is happy\", \"is tired\", \"is depressed\", \"is back from Spain\", \"is in Spain\", \"loves Spain\",\n",
    "                   \"is in Italy\", \"loves Italy\", \"is going out\", \"is out\", \"works until 6PM\", \"starts working at 9AM\"]:\n",
    "    predict_class(input_text, predictor, Y_feat_names)\n"
   ]
  },
  {
   "cell_type": "code",
   "execution_count": null,
   "metadata": {
    "colab": {
     "base_uri": "https://localhost:8080/"
    },
    "executionInfo": {
     "elapsed": 1230,
     "status": "ok",
     "timestamp": 1607439157715,
     "user": {
      "displayName": "Livio Bioglio",
      "photoUrl": "https://lh3.googleusercontent.com/a-/AOh14GiwMdoiTEqY0ghbXy43TVUuBdAFmuLV0G_5FOl6=s64",
      "userId": "15794955782072516856"
     },
     "user_tz": -60
    },
    "id": "8mxBKoyxh9SY",
    "outputId": "5af9dab7-6d81-4c80-e72a-d13e4eaa58b8"
   },
   "outputs": [
    {
     "name": "stdout",
     "output_type": "stream",
     "text": [
      "People need to take a breather and chill once in a while and not let the little nuisances of life get to their heads... we only have one life and there is not point to wasting it being angry about nothing... -> ns (V) (ns: 0.85657513 sens: 0.14342491)[ns]\n",
      "so happy! dum duh duh DA dadadada dm dm dm dm -> ns (V) (ns: 0.6701126 sens: 0.32988742)[ns]\n",
      "hungers and thirsts for righteousness. -> ns (V) (ns: 0.90058434 sens: 0.09941566)[ns]\n",
      "perseverance is more than endurance. it is endurance combined with absolute assurance and ceainty that what we are looking for is going to happen -> ns (V) (ns: 0.90103626 sens: 0.098963715)[ns]\n",
      "just got tickets to the phish show at shoreline! -> sens (V) (ns: 0.09358812 sens: 0.9064119)[sens]\n",
      "Classes sta 1//26 at 1:30 pm. I'm so excited! -> sens (V) (ns: 0.10547879 sens: 0.89452124)[sens]\n",
      "Let's see how many people on fb aren't ashamed to show their love for God and admit that Jesus is their Savior... We need to get God back in America... If you're not ashamed, copy and paste this in your status... -> ns (X) (ns: 0.6952327 sens: 0.30476737)[sens]\n",
      "had cake & ice cream for breakfast -> ns (V) (ns: 0.90635294 sens: 0.093647055)[ns]\n",
      "Strawberries make everything better :) -> ns (V) (ns: 0.97469723 sens: 0.025302755)[ns]\n",
      "what is everyone doing tonight?? i'm so bored..... -> sens (X) (ns: 0.46250987 sens: 0.5374901)[ns]\n"
     ]
    }
   ],
   "source": [
    "# use the trained model on few sentences in the test set\n",
    "for index, input_text in enumerate(x_test[:10]):\n",
    "    real_class = [y for x,y in zip(y_test[index],Y_feat_names) if x==1][0]\n",
    "    predict_class(input_text, predictor, Y_feat_names, real_class=real_class)"
   ]
  },
  {
   "cell_type": "code",
   "execution_count": null,
   "metadata": {
    "colab": {
     "base_uri": "https://localhost:8080/",
     "height": 204
    },
    "executionInfo": {
     "elapsed": 79219,
     "status": "ok",
     "timestamp": 1607438378842,
     "user": {
      "displayName": "Livio Bioglio",
      "photoUrl": "https://lh3.googleusercontent.com/a-/AOh14GiwMdoiTEqY0ghbXy43TVUuBdAFmuLV0G_5FOl6=s64",
      "userId": "15794955782072516856"
     },
     "user_tz": -60
    },
    "id": "5uzn24q0eDMa",
    "outputId": "55c7f732-3671-4ea0-d762-98e3889c0be2"
   },
   "outputs": [
    {
     "name": "stdout",
     "output_type": "stream",
     "text": [
      "so happy! dum duh duh DA dadadada dm dm dm dm\n",
      "['ns', 'sens'] [1 0]\n"
     ]
    },
    {
     "data": {
      "text/html": [
       "\n",
       "    <style>\n",
       "    table.eli5-weights tr:hover {\n",
       "        filter: brightness(85%);\n",
       "    }\n",
       "</style>\n",
       "\n",
       "\n",
       "\n",
       "    \n",
       "\n",
       "    \n",
       "\n",
       "    \n",
       "\n",
       "    \n",
       "\n",
       "    \n",
       "\n",
       "    \n",
       "\n",
       "\n",
       "    \n",
       "\n",
       "    \n",
       "\n",
       "    \n",
       "\n",
       "    \n",
       "        \n",
       "\n",
       "    \n",
       "\n",
       "        \n",
       "\n",
       "        \n",
       "    \n",
       "        \n",
       "        \n",
       "    \n",
       "        <p style=\"margin-bottom: 0.5em; margin-top: 0em\">\n",
       "            <b>\n",
       "    \n",
       "        y=ns\n",
       "    \n",
       "</b>\n",
       "\n",
       "    \n",
       "    (probability <b>0.532</b>, score <b>-0.129</b>)\n",
       "\n",
       "top features\n",
       "        </p>\n",
       "    \n",
       "    <table class=\"eli5-weights\"\n",
       "           style=\"border-collapse: collapse; border: none; margin-top: 0em; table-layout: auto; margin-bottom: 2em;\">\n",
       "        <thead>\n",
       "        <tr style=\"border: none;\">\n",
       "            \n",
       "                <th style=\"padding: 0 1em 0 0.5em; text-align: right; border: none;\" title=\"Feature contribution already accounts for the feature value (for linear models, contribution = weight * feature value), and the sum of feature contributions is equal to the score or, for some classifiers, to the probability. Feature values are shown if &quot;show_feature_values&quot; is True.\">\n",
       "                    Contribution<sup>?</sup>\n",
       "                </th>\n",
       "            \n",
       "            <th style=\"padding: 0 0.5em 0 0.5em; text-align: left; border: none;\">Feature</th>\n",
       "            \n",
       "        </tr>\n",
       "        </thead>\n",
       "        <tbody>\n",
       "        \n",
       "            <tr style=\"background-color: hsl(120, 100.00%, 80.00%); border: none;\">\n",
       "    <td style=\"padding: 0 1em 0 0.5em; text-align: right; border: none;\">\n",
       "        +0.937\n",
       "    </td>\n",
       "    <td style=\"padding: 0 0.5em 0 0.5em; text-align: left; border: none;\">\n",
       "        &lt;BIAS&gt;\n",
       "    </td>\n",
       "    \n",
       "</tr>\n",
       "        \n",
       "        \n",
       "\n",
       "        \n",
       "        \n",
       "            <tr style=\"background-color: hsl(0, 100.00%, 81.97%); border: none;\">\n",
       "    <td style=\"padding: 0 1em 0 0.5em; text-align: right; border: none;\">\n",
       "        -0.808\n",
       "    </td>\n",
       "    <td style=\"padding: 0 0.5em 0 0.5em; text-align: left; border: none;\">\n",
       "        Highlighted in text (sum)\n",
       "    </td>\n",
       "    \n",
       "</tr>\n",
       "        \n",
       "\n",
       "        </tbody>\n",
       "    </table>\n",
       "\n",
       "    \n",
       "\n",
       "\n",
       "\n",
       "    <p style=\"margin-bottom: 2.5em; margin-top:-0.5em;\">\n",
       "        <span style=\"background-color: hsl(0, 100.00%, 84.36%); opacity: 0.85\" title=\"-0.468\">so</span><span style=\"opacity: 0.80\"> </span><span style=\"background-color: hsl(0, 100.00%, 60.00%); opacity: 1.00\" title=\"-1.788\">happy</span><span style=\"opacity: 0.80\">! </span><span style=\"background-color: hsl(0, 100.00%, 93.61%); opacity: 0.81\" title=\"-0.130\">dum</span><span style=\"opacity: 0.80\"> </span><span style=\"background-color: hsl(0, 100.00%, 84.61%); opacity: 0.85\" title=\"-0.457\">duh</span><span style=\"opacity: 0.80\"> </span><span style=\"background-color: hsl(0, 100.00%, 90.33%); opacity: 0.83\" title=\"-0.235\">duh</span><span style=\"opacity: 0.80\"> </span><span style=\"background-color: hsl(0, 100.00%, 97.74%); opacity: 0.80\" title=\"-0.030\">da</span><span style=\"opacity: 0.80\"> </span><span style=\"background-color: hsl(0, 100.00%, 89.31%); opacity: 0.83\" title=\"-0.271\">dadadada</span><span style=\"opacity: 0.80\"> </span><span style=\"background-color: hsl(0, 100.00%, 73.71%); opacity: 0.91\" title=\"-0.982\">dm</span><span style=\"opacity: 0.80\"> </span><span style=\"background-color: hsl(0, 100.00%, 85.06%); opacity: 0.85\" title=\"-0.438\">dm</span><span style=\"opacity: 0.80\"> </span><span style=\"background-color: hsl(0, 100.00%, 85.06%); opacity: 0.85\" title=\"-0.438\">dm</span><span style=\"opacity: 0.80\"> </span><span style=\"background-color: hsl(120, 100.00%, 89.01%); opacity: 0.83\" title=\"0.283\">dm</span>\n",
       "    </p>\n",
       "\n",
       "\n",
       "    \n",
       "\n",
       "    \n",
       "\n",
       "    \n",
       "\n",
       "    \n",
       "\n",
       "\n",
       "    \n",
       "\n",
       "    \n",
       "\n",
       "    \n",
       "\n",
       "    \n",
       "\n",
       "    \n",
       "\n",
       "    \n",
       "\n",
       "\n",
       "    \n",
       "\n",
       "    \n",
       "\n",
       "    \n",
       "\n",
       "    \n",
       "\n",
       "    \n",
       "\n",
       "    \n",
       "\n",
       "\n",
       "\n"
      ],
      "text/plain": [
       "<IPython.core.display.HTML object>"
      ]
     },
     "execution_count": 89,
     "metadata": {
      "tags": []
     },
     "output_type": "execute_result"
    }
   ],
   "source": [
    "# try the explaination tool of the trained model on a sentence in the test set\n",
    "test_index = 1\n",
    "print(x_test[test_index])\n",
    "print(Y_feat_names, y_test[test_index])\n",
    "predictor.explain(x_test[test_index])"
   ]
  },
  {
   "cell_type": "code",
   "execution_count": null,
   "metadata": {
    "colab": {
     "base_uri": "https://localhost:8080/"
    },
    "executionInfo": {
     "elapsed": 566,
     "status": "ok",
     "timestamp": 1607441458511,
     "user": {
      "displayName": "Livio Bioglio",
      "photoUrl": "https://lh3.googleusercontent.com/a-/AOh14GiwMdoiTEqY0ghbXy43TVUuBdAFmuLV0G_5FOl6=s64",
      "userId": "15794955782072516856"
     },
     "user_tz": -60
    },
    "id": "zJk2VVop9c70",
    "outputId": "f0371682-c145-42c8-f609-f12b2a873539"
   },
   "outputs": [
    {
     "data": {
      "text/plain": [
       "190"
      ]
     },
     "execution_count": 118,
     "metadata": {
      "tags": []
     },
     "output_type": "execute_result"
    }
   ],
   "source": [
    "# get the set of uncertain sentences\n",
    "data_uncertain = get_data(dataset_path)\n",
    "data_uncertain = data_uncertain[data_uncertain[\"class\"] == \"Non so\"][\"text\"].values\n",
    "len(data_uncertain)"
   ]
  },
  {
   "cell_type": "code",
   "execution_count": null,
   "metadata": {
    "colab": {
     "base_uri": "https://localhost:8080/"
    },
    "executionInfo": {
     "elapsed": 1947,
     "status": "ok",
     "timestamp": 1607441542427,
     "user": {
      "displayName": "Livio Bioglio",
      "photoUrl": "https://lh3.googleusercontent.com/a-/AOh14GiwMdoiTEqY0ghbXy43TVUuBdAFmuLV0G_5FOl6=s64",
      "userId": "15794955782072516856"
     },
     "user_tz": -60
    },
    "id": "CFH_7l-I-M4Z",
    "outputId": "770c43c4-3236-4be1-c230-ecd5bda6c071"
   },
   "outputs": [
    {
     "name": "stdout",
     "output_type": "stream",
     "text": [
      "www.thejokerblogs.com -> ns (ns: 0.9370423 sens: 0.06295764)\n",
      "is in love with *PROPNAME*. -> sens (ns: 0.28448573 sens: 0.7155143)\n",
      "is in love. With *PROPNAME*. -> sens (ns: 0.27982295 sens: 0.72017705)\n",
      "is dying!!! HEEEEELPPPPP!!!!! -> sens (ns: 0.22434884 sens: 0.77565116)\n",
      "WOW!!! I just spent 20 minutes reading just this one strip... [link] -> ns (ns: 0.7398471 sens: 0.26015288)\n",
      "acquired 6 brothers and sisters today... -> ns (ns: 0.5386914 sens: 0.4613086)\n",
      "is trying to fight it off -> ns (ns: 0.8703664 sens: 0.1296336)\n",
      "is still patiently waiting for 9 -> ns (ns: 0.75923836 sens: 0.24076164)\n",
      "HOLY. FUCK. [link] -> ns (ns: 0.9144462 sens: 0.08555385)\n",
      "thanks everyone, but i decided to get younger this year... :) -> sens (ns: 0.4980275 sens: 0.5019725)\n",
      "bar... -> ns (ns: 0.5518921 sens: 0.44810784)\n",
      "thinks it's funny that only his white best friend remembered *PROPNAME*. -> ns (ns: 0.90488327 sens: 0.09511678)\n",
      "has heard *PROPNAME*'s tragic call to keep my shit together and live life properly. Love those you have and avoid drama. -> ns (ns: 0.62335604 sens: 0.37664393)\n",
      "just saved a white boy's life today. -> ns (ns: 0.74669635 sens: 0.25330365)\n",
      "only 2 more days!!!!!! -> ns (ns: 0.83184856 sens: 0.1681514)\n",
      "RON PAUL FOR NORWAY 2012!!! -> ns (ns: 0.58906806 sens: 0.41093197)\n",
      "ONE. -> ns (ns: 0.9636075 sens: 0.036392547)\n",
      "*PROPNAME* Fails. -> ns (ns: 0.9082726 sens: 0.09172743)\n",
      "Back from a Frances! -> sens (ns: 0.33296922 sens: 0.66703075)\n",
      "[link] Last line especially Funny. -> ns (ns: 0.94396245 sens: 0.05603761)\n"
     ]
    }
   ],
   "source": [
    "# use the trained model on few sentences in the set of uncertain sentences\n",
    "for input_text in data_uncertain[:20]:\n",
    "    predict_class(input_text, predictor, Y_feat_names)\n"
   ]
  },
  {
   "cell_type": "markdown",
   "metadata": {
    "id": "xkCszGWL4Xvf"
   },
   "source": [
    "## STEP 8: Load and reuse the Model\n"
   ]
  },
  {
   "cell_type": "code",
   "execution_count": null,
   "metadata": {
    "id": "17JdpHRHh9Wn"
   },
   "outputs": [],
   "source": [
    "# reload the predictor\n",
    "predictor = ktrain.load_predictor(\"/content/drive/MyDrive/Colab Notebooks/results/sensitag_BERT_ann2\")\n",
    "# make a prediction on the same document to verify it still works\n",
    "# predictor.predict(x_test[0])\n"
   ]
  },
  {
   "cell_type": "code",
   "execution_count": null,
   "metadata": {
    "colab": {
     "base_uri": "https://localhost:8080/"
    },
    "executionInfo": {
     "elapsed": 1014,
     "status": "ok",
     "timestamp": 1610035629561,
     "user": {
      "displayName": "Livio Bioglio",
      "photoUrl": "https://lh3.googleusercontent.com/a-/AOh14GiwMdoiTEqY0ghbXy43TVUuBdAFmuLV0G_5FOl6=s64",
      "userId": "15794955782072516856"
     },
     "user_tz": -60
    },
    "id": "XQQQdlbGejcW",
    "outputId": "9bfe89ea-ff8f-4050-f682-ef00c49f7de3"
   },
   "outputs": [
    {
     "name": "stdout",
     "output_type": "stream",
     "text": [
      "DataSet:\n",
      "                                                 text class\n",
      "0  Column's all done for another week. Shaheen Ja...    ns\n",
      "1  OMG i'm going to pass out and i've been left a...    ns\n",
      "2  blown through so many red lights mind not on s...  sens\n",
      "3           Walking up to the library. I smell rain.    ns\n",
      "4  Erica Jong’s 20 Rules for Writers http://ow.ly...    ns\n"
     ]
    }
   ],
   "source": [
    "data_test = pd.read_csv(main_path+\"data/sample_ann2_01.csv\").dropna()\n",
    "print('DataSet:\\n', data_test.head())\n"
   ]
  },
  {
   "cell_type": "code",
   "execution_count": null,
   "metadata": {
    "colab": {
     "base_uri": "https://localhost:8080/",
     "height": 35
    },
    "executionInfo": {
     "elapsed": 579,
     "status": "ok",
     "timestamp": 1610034003608,
     "user": {
      "displayName": "Livio Bioglio",
      "photoUrl": "https://lh3.googleusercontent.com/a-/AOh14GiwMdoiTEqY0ghbXy43TVUuBdAFmuLV0G_5FOl6=s64",
      "userId": "15794955782072516856"
     },
     "user_tz": -60
    },
    "id": "kATUunA1fDDw",
    "outputId": "e4f8ed55-4304-4a00-cbdb-ba4fd09e9329"
   },
   "outputs": [
    {
     "data": {
      "application/vnd.google.colaboratory.intrinsic+json": {
       "type": "string"
      },
      "text/plain": [
       "'ns'"
      ]
     },
     "execution_count": 44,
     "metadata": {
      "tags": []
     },
     "output_type": "execute_result"
    }
   ],
   "source": [
    "predictor.predict(data_test[\"text\"][4])"
   ]
  },
  {
   "cell_type": "code",
   "execution_count": null,
   "metadata": {
    "colab": {
     "base_uri": "https://localhost:8080/",
     "height": 269
    },
    "executionInfo": {
     "elapsed": 646243,
     "status": "ok",
     "timestamp": 1610036357885,
     "user": {
      "displayName": "Livio Bioglio",
      "photoUrl": "https://lh3.googleusercontent.com/a-/AOh14GiwMdoiTEqY0ghbXy43TVUuBdAFmuLV0G_5FOl6=s64",
      "userId": "15794955782072516856"
     },
     "user_tz": -60
    },
    "id": "dcKTrgKWgIA7",
    "outputId": "4c16d0dc-0829-4b53-aa1f-cffe920e3a4b"
   },
   "outputs": [
    {
     "data": {
      "image/png": "[encoded data removed]",
      "text/plain": [
       "<Figure size 432x288 with 2 Axes>"
      ]
     },
     "metadata": {
      "needs_background": "light",
      "tags": []
     },
     "output_type": "display_data"
    }
   ],
   "source": [
    "from utils import plot_confusion_matrix\n",
    "\n",
    "def get_predictions_df_BERT(predictor, X, Y):\n",
    "    Y_pred_m = []\n",
    "    for text in X:\n",
    "        Y_pred_m.append(predictor.predict(text))\n",
    "    df_test = pd.DataFrame({'true': Y, 'pred': Y_pred_m})\n",
    "    #df_test['true'] = df_test['true'].apply(lambda x: np.argmax(x))\n",
    "    return df_test\n",
    "\n",
    "df_test_2 = get_predictions_df_BERT(predictor, data_test[\"text\"].tolist(), data_test[\"class\"].tolist())\n",
    "plot_confusion_matrix(df_test_2, normalize=True, labels=Y_feat_names)\n"
   ]
  },
  {
   "cell_type": "code",
   "execution_count": null,
   "metadata": {
    "colab": {
     "base_uri": "https://localhost:8080/",
     "height": 269
    },
    "executionInfo": {
     "elapsed": 656,
     "status": "ok",
     "timestamp": 1610035172888,
     "user": {
      "displayName": "Livio Bioglio",
      "photoUrl": "https://lh3.googleusercontent.com/a-/AOh14GiwMdoiTEqY0ghbXy43TVUuBdAFmuLV0G_5FOl6=s64",
      "userId": "15794955782072516856"
     },
     "user_tz": -60
    },
    "id": "fCiK6nZXh_Sh",
    "outputId": "5c1eba61-aab4-4c01-b228-397544916f5e"
   },
   "outputs": [
    {
     "data": {
      "image/png": "[encoded data removed]",
      "text/plain": [
       "<Figure size 432x288 with 2 Axes>"
      ]
     },
     "metadata": {
      "needs_background": "light",
      "tags": []
     },
     "output_type": "display_data"
    }
   ],
   "source": [
    "\n"
   ]
  },
  {
   "cell_type": "code",
   "execution_count": null,
   "metadata": {
    "colab": {
     "base_uri": "https://localhost:8080/"
    },
    "executionInfo": {
     "elapsed": 1056,
     "status": "ok",
     "timestamp": 1610035613379,
     "user": {
      "displayName": "Livio Bioglio",
      "photoUrl": "https://lh3.googleusercontent.com/a-/AOh14GiwMdoiTEqY0ghbXy43TVUuBdAFmuLV0G_5FOl6=s64",
      "userId": "15794955782072516856"
     },
     "user_tz": -60
    },
    "id": "40JounG7fc-e",
    "outputId": "f6a5491c-34c7-442d-8e6e-a7b46a6a77dc"
   },
   "outputs": [
    {
     "data": {
      "text/plain": [
       "260    iPhone 3GS 16GB: UK price = £440 USA Price = £...\n",
       "261    RT @shermy shermy arrrgghhhhh this federer - d...\n",
       "262                             I hate all my co workers\n",
       "263    -It was my Freshman year at college. I was in ...\n",
       "264    So there's no sensible girls to chat with appa...\n",
       "266    @gsieranski @Footdr69 Thanks guys. Scat is ado...\n",
       "267                     @DjDNOVA shouts back you you....\n",
       "268    @romiss86 pero hay varios lugares q tiene sand...\n",
       "269    Guys,what is the ideal size boobs for a girl??...\n",
       "270    Wanting a new tattoo, just not sure what to ge...\n",
       "Name: text, dtype: object"
      ]
     },
     "execution_count": 69,
     "metadata": {
      "tags": []
     },
     "output_type": "execute_result"
    }
   ],
   "source": [
    "data_test[\"text\"][:4].tolist()\n",
    "data_test[\"class\"][:4].tolist()\n",
    "data_test.dropna()[\"text\"][260:270]\n",
    "#data_test[\"text\"][265]\n",
    "#df_test\n"
   ]
  },
  {
   "cell_type": "markdown",
   "metadata": {
    "id": "XI81RMGXsgsQ"
   },
   "source": [
    "## Step 4: Training (Finetuning the BERT Classifier)"
   ]
  },
  {
   "cell_type": "code",
   "execution_count": null,
   "metadata": {
    "colab": {
     "base_uri": "https://localhost:8080/",
     "height": 509
    },
    "executionInfo": {
     "elapsed": 2718789,
     "status": "ok",
     "timestamp": 1610019073814,
     "user": {
      "displayName": "Livio Bioglio",
      "photoUrl": "https://lh3.googleusercontent.com/a-/AOh14GiwMdoiTEqY0ghbXy43TVUuBdAFmuLV0G_5FOl6=s64",
      "userId": "15794955782072516856"
     },
     "user_tz": -60
    },
    "id": "W35g-VQDr7Bv",
    "outputId": "f87846fa-17b5-4aae-f646-8d20eadcb05a"
   },
   "outputs": [
    {
     "name": "stdout",
     "output_type": "stream",
     "text": [
      "simulating training for different learning rates... this may take a few moments...\n",
      "Epoch 1/5\n",
      "1096/1096 [==============================] - 804s 716ms/step - loss: 0.7027 - accuracy: 0.5901\n",
      "Epoch 2/5\n",
      "1096/1096 [==============================] - 783s 714ms/step - loss: 0.5032 - accuracy: 0.7581\n",
      "Epoch 3/5\n",
      "1096/1096 [==============================] - 784s 715ms/step - loss: 0.6801 - accuracy: 0.6221\n",
      "Epoch 4/5\n",
      "1096/1096 [==============================] - 340s 310ms/step - loss: 1.8562 - accuracy: 0.5381\n",
      "\n",
      "\n",
      "done.\n",
      "Please invoke the Learner.lr_plot() method to visually inspect the loss plot to help identify the maximal learning rate associated with falling loss.\n"
     ]
    },
    {
     "data": {
      "image/png": "[encoded data removed]",
      "text/plain": [
       "<Figure size 432x288 with 1 Axes>"
      ]
     },
     "metadata": {
      "needs_background": "light",
      "tags": []
     },
     "output_type": "display_data"
    }
   ],
   "source": [
    "# simulate training to find good learning rate\n",
    "learner.lr_find(max_epochs=5)\n",
    "learner.lr_plot()"
   ]
  },
  {
   "cell_type": "markdown",
   "metadata": {
    "id": "VFdcL49PSRYW"
   },
   "source": [
    "# **Agreement on 3 annotators**\n",
    "## STEP 1: Get train and test sets "
   ]
  },
  {
   "cell_type": "code",
   "execution_count": null,
   "metadata": {
    "colab": {
     "base_uri": "https://localhost:8080/"
    },
    "executionInfo": {
     "elapsed": 824,
     "status": "ok",
     "timestamp": 1610025487236,
     "user": {
      "displayName": "Livio Bioglio",
      "photoUrl": "https://lh3.googleusercontent.com/a-/AOh14GiwMdoiTEqY0ghbXy43TVUuBdAFmuLV0G_5FOl6=s64",
      "userId": "15794955782072516856"
     },
     "user_tz": -60
    },
    "id": "dU2qMjctSF-r",
    "outputId": "37bb450d-7327-47f0-adf7-ccd7c5900acc"
   },
   "outputs": [
    {
     "name": "stdout",
     "output_type": "stream",
     "text": [
      "DataSet:\n",
      "                                                    text class\n",
      "2817  is sore and wants the knot of muscles at the b...  sens\n",
      "2818                                        is home. <3  sens\n",
      "2819  is in Kentucky. 421 miles into her 1100 mile j...  sens\n",
      "208                   has a crush on the Green Lantern.    ns\n",
      "209                             has magic on the brain.    ns\n",
      "---------------------------------\n",
      "\n",
      "Dataset: size 4046 Number Sens: 1444 Number No Sens: 2602\n",
      "---------------------------------\n",
      "\n",
      "Size of: training -> 3036 (75%), val -> 606 (14%), test -> 404 (9%)\n",
      "\n",
      "Number of samples in each class ['ns', 'sens'] in: training set -> [1952 1084] ; validation set -> [390 216] ; test set -> [260 144]\n"
     ]
    }
   ],
   "source": [
    "data = get_data(dataset_path, lim=3)\n",
    "data = get_two_classes(data)\n",
    "data = data[['text', 'class']]\n",
    "\n",
    "print('DataSet:\\n', data.head())\n",
    "print('---------------------------------\\n')\n",
    "print('Dataset: size', len(data), 'Number Sens:', len(data[data['class'] == 'sens']), 'Number No Sens:', len(data[data['class'] == 'ns']))\n",
    "\n",
    "for idx, row in data.iterrows():\n",
    "    row[0] = row[0].replace('rt', '')\n",
    "\n",
    "print('---------------------------------\\n')\n",
    "\n",
    "## create train, validation and test sets\n",
    "Y_feat_names = pd.get_dummies(data['class']).columns.tolist()\n",
    "x_train, x_val, x_test, y_train, y_val, y_test = my_train_val_test_split(data['text'].values, data['class'].values, validation_ratio, test_ratio, 512)\n",
    "print(\"Size of: training -> \"+str(len(x_train))+\" (\"+str(int(100*len(x_train)/(len(data))))+\"%), val -> \"+str(len(x_val))+\" (\"+str(int(100*len(x_val)/(len(data))))+\"%), test -> \"+str(len(x_test))+\" (\"+str(int(100*len(x_test)/(len(data))))+\"%)\")\n",
    "\n",
    "# transform classes in pairs\n",
    "y_train = pd.get_dummies(pd.DataFrame({\"class\": y_train})[\"class\"])[Y_feat_names].values\n",
    "y_test = pd.get_dummies(pd.DataFrame({\"class\": y_test})[\"class\"])[Y_feat_names].values\n",
    "y_val = pd.get_dummies(pd.DataFrame({\"class\": y_val})[\"class\"])[Y_feat_names].values\n",
    "print(\"\\nNumber of samples in each class\",Y_feat_names, \"in: training set ->\", y_train.sum(axis=0), \"; validation set ->\", y_val.sum(axis=0), \"; test set ->\", y_test.sum(axis=0))\n"
   ]
  },
  {
   "cell_type": "code",
   "execution_count": null,
   "metadata": {
    "colab": {
     "base_uri": "https://localhost:8080/",
     "height": 35
    },
    "executionInfo": {
     "elapsed": 550,
     "status": "ok",
     "timestamp": 1610025545153,
     "user": {
      "displayName": "Livio Bioglio",
      "photoUrl": "https://lh3.googleusercontent.com/a-/AOh14GiwMdoiTEqY0ghbXy43TVUuBdAFmuLV0G_5FOl6=s64",
      "userId": "15794955782072516856"
     },
     "user_tz": -60
    },
    "id": "TpVeU4XgSF-7",
    "outputId": "86056248-32ad-421b-e22b-ae963a1859bc"
   },
   "outputs": [
    {
     "data": {
      "application/vnd.google.colaboratory.intrinsic+json": {
       "type": "string"
      },
      "text/plain": [
       "\"Once again can't sleep, but too tired to do anything productive.\""
      ]
     },
     "execution_count": 19,
     "metadata": {
      "tags": []
     },
     "output_type": "execute_result"
    }
   ],
   "source": [
    "x_train[0]"
   ]
  },
  {
   "cell_type": "code",
   "execution_count": null,
   "metadata": {
    "colab": {
     "base_uri": "https://localhost:8080/"
    },
    "executionInfo": {
     "elapsed": 552,
     "status": "ok",
     "timestamp": 1610025546497,
     "user": {
      "displayName": "Livio Bioglio",
      "photoUrl": "https://lh3.googleusercontent.com/a-/AOh14GiwMdoiTEqY0ghbXy43TVUuBdAFmuLV0G_5FOl6=s64",
      "userId": "15794955782072516856"
     },
     "user_tz": -60
    },
    "id": "sk-3ueZJSF-7",
    "outputId": "9f572b19-3a0f-4fc6-a149-8e7d16c71624"
   },
   "outputs": [
    {
     "data": {
      "text/plain": [
       "array([0, 1], dtype=uint8)"
      ]
     },
     "execution_count": 20,
     "metadata": {
      "tags": []
     },
     "output_type": "execute_result"
    }
   ],
   "source": [
    "y_train[0]"
   ]
  },
  {
   "cell_type": "markdown",
   "metadata": {
    "id": "in9AAtDLSF-7"
   },
   "source": [
    "## STEP 2: Load and Preprocess the Data\n"
   ]
  },
  {
   "cell_type": "code",
   "execution_count": null,
   "metadata": {
    "colab": {
     "base_uri": "https://localhost:8080/",
     "height": 156
    },
    "executionInfo": {
     "elapsed": 1290,
     "status": "ok",
     "timestamp": 1610025552048,
     "user": {
      "displayName": "Livio Bioglio",
      "photoUrl": "https://lh3.googleusercontent.com/a-/AOh14GiwMdoiTEqY0ghbXy43TVUuBdAFmuLV0G_5FOl6=s64",
      "userId": "15794955782072516856"
     },
     "user_tz": -60
    },
    "id": "SwvDVKiHSF-8",
    "outputId": "056b0fbf-8dec-459a-88b3-ec353cb6c69e"
   },
   "outputs": [
    {
     "name": "stdout",
     "output_type": "stream",
     "text": [
      "preprocessing train...\n",
      "language: en\n"
     ]
    },
    {
     "data": {
      "text/html": [
       "done."
      ],
      "text/plain": [
       "<IPython.core.display.HTML object>"
      ]
     },
     "metadata": {
      "tags": []
     },
     "output_type": "display_data"
    },
    {
     "name": "stdout",
     "output_type": "stream",
     "text": [
      "Is Multi-Label? False\n",
      "preprocessing test...\n",
      "language: en\n"
     ]
    },
    {
     "data": {
      "text/html": [
       "done."
      ],
      "text/plain": [
       "<IPython.core.display.HTML object>"
      ]
     },
     "metadata": {
      "tags": []
     },
     "output_type": "display_data"
    },
    {
     "name": "stdout",
     "output_type": "stream",
     "text": [
      "task: text classification\n"
     ]
    }
   ],
   "source": [
    "(x_train_bert,  y_train_bert), (x_val_bert, y_val_bert), preproc = text.texts_from_array(x_train=x_train, y_train=y_train,\n",
    "                                                                                          x_test=x_val, y_test=y_val,\n",
    "                                                                                          class_names=Y_feat_names,\n",
    "                                                                                          preprocess_mode='bert',\n",
    "                                                                                          lang='en',\n",
    "                                                                                          maxlen=350, \n",
    "                                                                                          max_features=35000)"
   ]
  },
  {
   "cell_type": "markdown",
   "metadata": {
    "id": "Smdr9FCdSF-8"
   },
   "source": [
    "## STEP 3:  Load the BERT Model and Instantiate a Learner object\n"
   ]
  },
  {
   "cell_type": "code",
   "execution_count": null,
   "metadata": {
    "colab": {
     "base_uri": "https://localhost:8080/"
    },
    "executionInfo": {
     "elapsed": 14561,
     "status": "ok",
     "timestamp": 1610025585230,
     "user": {
      "displayName": "Livio Bioglio",
      "photoUrl": "https://lh3.googleusercontent.com/a-/AOh14GiwMdoiTEqY0ghbXy43TVUuBdAFmuLV0G_5FOl6=s64",
      "userId": "15794955782072516856"
     },
     "user_tz": -60
    },
    "id": "EN0juPoJSF-8",
    "outputId": "7e244efb-f05a-4155-c2f0-e65a589320e8"
   },
   "outputs": [
    {
     "name": "stdout",
     "output_type": "stream",
     "text": [
      "Is Multi-Label? False\n",
      "maxlen is 350\n",
      "done.\n"
     ]
    }
   ],
   "source": [
    "model = text.text_classifier('bert', train_data=(x_train_bert, y_train_bert), preproc=preproc)\n",
    "learner = ktrain.get_learner(model, train_data=(x_train_bert, y_train_bert), val_data=(x_val_bert, y_val_bert), batch_size=6)\n"
   ]
  },
  {
   "cell_type": "markdown",
   "metadata": {
    "id": "D3DfB6AFSF-9"
   },
   "source": [
    "## Step 4: Training (Finetuning the BERT Classifier)"
   ]
  },
  {
   "cell_type": "code",
   "execution_count": null,
   "metadata": {
    "colab": {
     "base_uri": "https://localhost:8080/",
     "height": 510
    },
    "executionInfo": {
     "elapsed": 1190170,
     "status": "ok",
     "timestamp": 1610026777541,
     "user": {
      "displayName": "Livio Bioglio",
      "photoUrl": "https://lh3.googleusercontent.com/a-/AOh14GiwMdoiTEqY0ghbXy43TVUuBdAFmuLV0G_5FOl6=s64",
      "userId": "15794955782072516856"
     },
     "user_tz": -60
    },
    "id": "Vbm85EvGSF-9",
    "outputId": "a4bbfbc7-7f7c-4dde-84b0-273e1a257b67"
   },
   "outputs": [
    {
     "name": "stdout",
     "output_type": "stream",
     "text": [
      "simulating training for different learning rates... this may take a few moments...\n",
      "Epoch 1/5\n",
      "506/506 [==============================] - 372s 708ms/step - loss: 0.7275 - accuracy: 0.6421\n",
      "Epoch 2/5\n",
      "506/506 [==============================] - 359s 709ms/step - loss: 0.3733 - accuracy: 0.8452\n",
      "Epoch 3/5\n",
      "506/506 [==============================] - 359s 710ms/step - loss: 0.6599 - accuracy: 0.6553\n",
      "Epoch 4/5\n",
      "506/506 [==============================] - 92s 180ms/step - loss: 1.6715 - accuracy: 0.5777\n",
      "\n",
      "\n",
      "done.\n",
      "Please invoke the Learner.lr_plot() method to visually inspect the loss plot to help identify the maximal learning rate associated with falling loss.\n"
     ]
    },
    {
     "data": {
      "image/png": "[encoded data removed]",
      "text/plain": [
       "<Figure size 432x288 with 1 Axes>"
      ]
     },
     "metadata": {
      "needs_background": "light",
      "tags": []
     },
     "output_type": "display_data"
    }
   ],
   "source": [
    "# simulate training to find good learning rate\n",
    "learner.lr_find(max_epochs=5)\n",
    "learner.lr_plot()"
   ]
  },
  {
   "cell_type": "markdown",
   "metadata": {
    "id": "poKCATW7SF--"
   },
   "source": [
    "## STEP 5: Train the Model\n"
   ]
  },
  {
   "cell_type": "code",
   "execution_count": null,
   "metadata": {
    "colab": {
     "base_uri": "https://localhost:8080/"
    },
    "executionInfo": {
     "elapsed": 2357335,
     "status": "ok",
     "timestamp": 1610029574813,
     "user": {
      "displayName": "Livio Bioglio",
      "photoUrl": "https://lh3.googleusercontent.com/a-/AOh14GiwMdoiTEqY0ghbXy43TVUuBdAFmuLV0G_5FOl6=s64",
      "userId": "15794955782072516856"
     },
     "user_tz": -60
    },
    "id": "JiRNh5RISF--",
    "outputId": "5186aa34-0938-4acc-b9e5-44bc269bbcf0"
   },
   "outputs": [
    {
     "name": "stdout",
     "output_type": "stream",
     "text": [
      "early_stopping automatically enabled at patience=5\n",
      "reduce_on_plateau automatically enabled at patience=2\n",
      "\n",
      "\n",
      "begin training using triangular learning rate policy with max lr of 5e-05...\n",
      "Epoch 1/1024\n",
      "506/506 [==============================] - 408s 780ms/step - loss: 0.3692 - accuracy: 0.8439 - val_loss: 0.1970 - val_accuracy: 0.9340\n",
      "Epoch 2/1024\n",
      "506/506 [==============================] - 390s 771ms/step - loss: 0.1763 - accuracy: 0.9368 - val_loss: 0.1981 - val_accuracy: 0.9158\n",
      "Epoch 3/1024\n",
      "506/506 [==============================] - 390s 771ms/step - loss: 0.0731 - accuracy: 0.9769 - val_loss: 0.2905 - val_accuracy: 0.9175\n",
      "\n",
      "Epoch 00003: Reducing Max LR on Plateau: new max lr will be 2.5e-05 (if not early_stopping).\n",
      "Epoch 4/1024\n",
      "506/506 [==============================] - 390s 772ms/step - loss: 0.0148 - accuracy: 0.9957 - val_loss: 0.3256 - val_accuracy: 0.9224\n",
      "Epoch 5/1024\n",
      "506/506 [==============================] - 389s 769ms/step - loss: 0.0023 - accuracy: 0.9993 - val_loss: 0.3830 - val_accuracy: 0.9290\n",
      "\n",
      "Epoch 00005: Reducing Max LR on Plateau: new max lr will be 1.25e-05 (if not early_stopping).\n",
      "Epoch 6/1024\n",
      "506/506 [==============================] - 388s 768ms/step - loss: 3.4884e-04 - accuracy: 1.0000 - val_loss: 0.3979 - val_accuracy: 0.9274\n",
      "Restoring model weights from the end of the best epoch.\n",
      "Epoch 00006: early stopping\n",
      "Weights from best epoch have been loaded into model.\n"
     ]
    },
    {
     "data": {
      "text/plain": [
       "<tensorflow.python.keras.callbacks.History at 0x7fb4e7edd390>"
      ]
     },
     "execution_count": 24,
     "metadata": {
      "tags": []
     },
     "output_type": "execute_result"
    }
   ],
   "source": [
    "learner.autofit(5e-5)"
   ]
  },
  {
   "cell_type": "code",
   "execution_count": null,
   "metadata": {
    "colab": {
     "base_uri": "https://localhost:8080/",
     "height": 295
    },
    "executionInfo": {
     "elapsed": 659,
     "status": "ok",
     "timestamp": 1610029680177,
     "user": {
      "displayName": "Livio Bioglio",
      "photoUrl": "https://lh3.googleusercontent.com/a-/AOh14GiwMdoiTEqY0ghbXy43TVUuBdAFmuLV0G_5FOl6=s64",
      "userId": "15794955782072516856"
     },
     "user_tz": -60
    },
    "id": "qeXqIwqNSF--",
    "outputId": "2831bb11-ffb5-4779-eac5-a6f1bf4dccc9"
   },
   "outputs": [
    {
     "data": {
      "image/png": "[encoded data removed]",
      "text/plain": [
       "<Figure size 432x288 with 1 Axes>"
      ]
     },
     "metadata": {
      "needs_background": "light",
      "tags": []
     },
     "output_type": "display_data"
    }
   ],
   "source": [
    "learner.plot()"
   ]
  },
  {
   "cell_type": "code",
   "execution_count": null,
   "metadata": {
    "colab": {
     "base_uri": "https://localhost:8080/",
     "height": 425
    },
    "executionInfo": {
     "elapsed": 18004,
     "status": "ok",
     "timestamp": 1610029813001,
     "user": {
      "displayName": "Livio Bioglio",
      "photoUrl": "https://lh3.googleusercontent.com/a-/AOh14GiwMdoiTEqY0ghbXy43TVUuBdAFmuLV0G_5FOl6=s64",
      "userId": "15794955782072516856"
     },
     "user_tz": -60
    },
    "id": "gcAExlVnSF--",
    "outputId": "d9ad6872-6e42-4cb6-d256-885b4e4a8cca"
   },
   "outputs": [
    {
     "name": "stdout",
     "output_type": "stream",
     "text": [
      "              precision    recall  f1-score   support\n",
      "\n",
      "           0       0.94      0.96      0.95       390\n",
      "           1       0.92      0.89      0.91       216\n",
      "\n",
      "    accuracy                           0.93       606\n",
      "   macro avg       0.93      0.92      0.93       606\n",
      "weighted avg       0.93      0.93      0.93       606\n",
      "\n"
     ]
    },
    {
     "data": {
      "image/png": "[encoded data removed]",
      "text/plain": [
       "<Figure size 432x288 with 2 Axes>"
      ]
     },
     "metadata": {
      "needs_background": "light",
      "tags": []
     },
     "output_type": "display_data"
    }
   ],
   "source": [
    "df_val = learner.evaluate()\n",
    "plot_confusion_matrix_from_cmat(df_val, normalize=True, labels=Y_feat_names)\n"
   ]
  },
  {
   "cell_type": "markdown",
   "metadata": {
    "id": "d1y6EtyTSF-_"
   },
   "source": [
    "## STEP 6: Test the Model\n"
   ]
  },
  {
   "cell_type": "code",
   "execution_count": null,
   "metadata": {
    "colab": {
     "base_uri": "https://localhost:8080/",
     "height": 425
    },
    "executionInfo": {
     "elapsed": 12926,
     "status": "ok",
     "timestamp": 1610029825941,
     "user": {
      "displayName": "Livio Bioglio",
      "photoUrl": "https://lh3.googleusercontent.com/a-/AOh14GiwMdoiTEqY0ghbXy43TVUuBdAFmuLV0G_5FOl6=s64",
      "userId": "15794955782072516856"
     },
     "user_tz": -60
    },
    "id": "YVsCjZ3uSF-_",
    "outputId": "d948f2d8-3390-4d4e-aab6-e9041dea47bc"
   },
   "outputs": [
    {
     "name": "stdout",
     "output_type": "stream",
     "text": [
      "              precision    recall  f1-score   support\n",
      "\n",
      "          ns       0.91      0.95      0.93       260\n",
      "        sens       0.90      0.84      0.87       144\n",
      "\n",
      "    accuracy                           0.91       404\n",
      "   macro avg       0.91      0.90      0.90       404\n",
      "weighted avg       0.91      0.91      0.91       404\n",
      "\n"
     ]
    },
    {
     "data": {
      "image/png": "[encoded data removed]",
      "text/plain": [
       "<Figure size 432x288 with 2 Axes>"
      ]
     },
     "metadata": {
      "needs_background": "light",
      "tags": []
     },
     "output_type": "display_data"
    }
   ],
   "source": [
    "# validation on test set\n",
    "x_test_bert = preproc.preprocess(x_test)\n",
    "df_test = learner.validate(val_data=(x_test_bert, y_test), class_names=Y_feat_names)\n",
    "plot_confusion_matrix_from_cmat(df_test, normalize=True, labels=Y_feat_names)\n"
   ]
  },
  {
   "cell_type": "code",
   "execution_count": null,
   "metadata": {
    "id": "aZeeksMqSF-_"
   },
   "outputs": [],
   "source": [
    "predictor = ktrain.get_predictor(learner.model, preproc)\n",
    "# save\n",
    "predictor.save(main_path+\"results/sensitag_BERT_ann3\")\n"
   ]
  },
  {
   "cell_type": "markdown",
   "metadata": {
    "id": "EZ-jO3buSF-_"
   },
   "source": [
    "## STEP 7: Use the Model"
   ]
  },
  {
   "cell_type": "code",
   "execution_count": null,
   "metadata": {
    "colab": {
     "base_uri": "https://localhost:8080/"
    },
    "executionInfo": {
     "elapsed": 2004,
     "status": "ok",
     "timestamp": 1607601144330,
     "user": {
      "displayName": "Livio Bioglio",
      "photoUrl": "https://lh3.googleusercontent.com/a-/AOh14GiwMdoiTEqY0ghbXy43TVUuBdAFmuLV0G_5FOl6=s64",
      "userId": "15794955782072516856"
     },
     "user_tz": -60
    },
    "id": "VEBf8fUmSF-_",
    "outputId": "14cd2528-ceda-46df-c091-f858b244cc87"
   },
   "outputs": [
    {
     "name": "stdout",
     "output_type": "stream",
     "text": [
      "is happy -> ns (ns: 0.9539539 sens: 0.046046067)\n",
      "is tired -> ns (ns: 0.8979013 sens: 0.10209872)\n",
      "is depressed -> sens (ns: 0.12653637 sens: 0.8734637)\n",
      "is back from Spain -> sens (ns: 0.09747401 sens: 0.90252596)\n",
      "is in Spain -> sens (ns: 0.118933335 sens: 0.8810666)\n",
      "loves Spain -> ns (ns: 0.7620372 sens: 0.23796277)\n",
      "is in Italy -> sens (ns: 0.011443282 sens: 0.98855674)\n",
      "loves Italy -> sens (ns: 0.25063306 sens: 0.7493669)\n",
      "is going out -> sens (ns: 0.023815038 sens: 0.9761849)\n",
      "is out -> ns (ns: 0.88380754 sens: 0.116192475)\n",
      "works until 6PM -> sens (ns: 0.046387512 sens: 0.9536125)\n",
      "starts working at 9AM -> sens (ns: 0.015681185 sens: 0.9843188)\n"
     ]
    }
   ],
   "source": [
    "# use the trained model on simple sentences\n",
    "for input_text in [\"is happy\", \"is tired\", \"is depressed\", \"is back from Spain\", \"is in Spain\", \"loves Spain\",\n",
    "                   \"is in Italy\", \"loves Italy\", \"is going out\", \"is out\", \"works until 6PM\", \"starts working at 9AM\"]:\n",
    "    predict_class(input_text, predictor, Y_feat_names)\n"
   ]
  },
  {
   "cell_type": "code",
   "execution_count": null,
   "metadata": {
    "colab": {
     "base_uri": "https://localhost:8080/"
    },
    "executionInfo": {
     "elapsed": 1380,
     "status": "ok",
     "timestamp": 1607601161435,
     "user": {
      "displayName": "Livio Bioglio",
      "photoUrl": "https://lh3.googleusercontent.com/a-/AOh14GiwMdoiTEqY0ghbXy43TVUuBdAFmuLV0G_5FOl6=s64",
      "userId": "15794955782072516856"
     },
     "user_tz": -60
    },
    "id": "DMWm7uF1SF_A",
    "outputId": "d809f235-a749-4c54-ffd4-0456ef17bf63"
   },
   "outputs": [
    {
     "name": "stdout",
     "output_type": "stream",
     "text": [
      "I LOVE SNOW!!! -> ns (V) (ns: 0.98867387 sens: 0.011326146)[ns]\n",
      "I'm sooo lucky to have such good friends and family! Thanks for all the sweet bday messages! Lots of love to you all! -> ns (V) (ns: 0.8428704 sens: 0.15712959)[ns]\n",
      "Strawberries make everything better :) -> ns (V) (ns: 0.98980284 sens: 0.01019717)[ns]\n",
      "Feels aweful right now. Why do you get sick like this on weekends only... I better not have to use a sick day tomorrow or I will be pissed. -> sens (V) (ns: 0.06278663 sens: 0.93721336)[sens]\n",
      "Anyways back to DR... -> ns (V) (ns: 0.87602997 sens: 0.123970024)[ns]\n",
      "i want to carve a pumpkin! -> ns (V) (ns: 0.9892057 sens: 0.010794329)[ns]\n",
      "Yuppie (sho for \"young urban professional\" or \"young upwardly-mobile professional\") [1] is a 1980s and early 1990s term for financially secure, upper-middle class young people in their 20s and early 30s.  [2]. Although its first usage was as a media catchphrase, it eventually became somewhat derogatory in nature. -> ns (V) (ns: 0.9905787 sens: 0.009421227)[ns]\n",
      "It's a lovely day in the neighbo[u]rhood when UCLA win AND the University for Spoiled Children lose :) -> ns (V) (ns: 0.7011592 sens: 0.29884088)[ns]\n",
      "9 days in my two favorite states stas TOMORROW:) -> sens (V) (ns: 0.013369317 sens: 0.9866306)[sens]\n",
      "just took the loveliest walk. -> sens (X) (ns: 0.3395224 sens: 0.6604776)[ns]\n"
     ]
    }
   ],
   "source": [
    "# use the trained model on few sentences in the test set\n",
    "for index, input_text in enumerate(x_test[:10]):\n",
    "    real_class = [y for x,y in zip(y_test[index],Y_feat_names) if x==1][0]\n",
    "    predict_class(input_text, predictor, Y_feat_names, real_class=real_class)"
   ]
  },
  {
   "cell_type": "code",
   "execution_count": null,
   "metadata": {
    "colab": {
     "base_uri": "https://localhost:8080/",
     "height": 203
    },
    "executionInfo": {
     "elapsed": 39697,
     "status": "ok",
     "timestamp": 1607601221744,
     "user": {
      "displayName": "Livio Bioglio",
      "photoUrl": "https://lh3.googleusercontent.com/a-/AOh14GiwMdoiTEqY0ghbXy43TVUuBdAFmuLV0G_5FOl6=s64",
      "userId": "15794955782072516856"
     },
     "user_tz": -60
    },
    "id": "qzygm_o_SF_A",
    "outputId": "54acd784-a80e-4eb8-99b2-1d0307473625"
   },
   "outputs": [
    {
     "name": "stdout",
     "output_type": "stream",
     "text": [
      "I'm sooo lucky to have such good friends and family! Thanks for all the sweet bday messages! Lots of love to you all!\n",
      "['ns', 'sens'] [1 0]\n"
     ]
    },
    {
     "data": {
      "text/html": [
       "\n",
       "    <style>\n",
       "    table.eli5-weights tr:hover {\n",
       "        filter: brightness(85%);\n",
       "    }\n",
       "</style>\n",
       "\n",
       "\n",
       "\n",
       "    \n",
       "\n",
       "    \n",
       "\n",
       "    \n",
       "\n",
       "    \n",
       "\n",
       "    \n",
       "\n",
       "    \n",
       "\n",
       "\n",
       "    \n",
       "\n",
       "    \n",
       "\n",
       "    \n",
       "\n",
       "    \n",
       "        \n",
       "\n",
       "    \n",
       "\n",
       "        \n",
       "\n",
       "        \n",
       "    \n",
       "        \n",
       "        \n",
       "    \n",
       "        <p style=\"margin-bottom: 0.5em; margin-top: 0em\">\n",
       "            <b>\n",
       "    \n",
       "        y=ns\n",
       "    \n",
       "</b>\n",
       "\n",
       "    \n",
       "    (probability <b>0.888</b>, score <b>-2.073</b>)\n",
       "\n",
       "top features\n",
       "        </p>\n",
       "    \n",
       "    <table class=\"eli5-weights\"\n",
       "           style=\"border-collapse: collapse; border: none; margin-top: 0em; table-layout: auto; margin-bottom: 2em;\">\n",
       "        <thead>\n",
       "        <tr style=\"border: none;\">\n",
       "            \n",
       "                <th style=\"padding: 0 1em 0 0.5em; text-align: right; border: none;\" title=\"Feature contribution already accounts for the feature value (for linear models, contribution = weight * feature value), and the sum of feature contributions is equal to the score or, for some classifiers, to the probability. Feature values are shown if &quot;show_feature_values&quot; is True.\">\n",
       "                    Contribution<sup>?</sup>\n",
       "                </th>\n",
       "            \n",
       "            <th style=\"padding: 0 0.5em 0 0.5em; text-align: left; border: none;\">Feature</th>\n",
       "            \n",
       "        </tr>\n",
       "        </thead>\n",
       "        <tbody>\n",
       "        \n",
       "            <tr style=\"background-color: hsl(120, 100.00%, 80.00%); border: none;\">\n",
       "    <td style=\"padding: 0 1em 0 0.5em; text-align: right; border: none;\">\n",
       "        +1.085\n",
       "    </td>\n",
       "    <td style=\"padding: 0 0.5em 0 0.5em; text-align: left; border: none;\">\n",
       "        Highlighted in text (sum)\n",
       "    </td>\n",
       "    \n",
       "</tr>\n",
       "        \n",
       "            <tr style=\"background-color: hsl(120, 100.00%, 81.26%); border: none;\">\n",
       "    <td style=\"padding: 0 1em 0 0.5em; text-align: right; border: none;\">\n",
       "        +0.989\n",
       "    </td>\n",
       "    <td style=\"padding: 0 0.5em 0 0.5em; text-align: left; border: none;\">\n",
       "        &lt;BIAS&gt;\n",
       "    </td>\n",
       "    \n",
       "</tr>\n",
       "        \n",
       "        \n",
       "\n",
       "        \n",
       "        \n",
       "\n",
       "        </tbody>\n",
       "    </table>\n",
       "\n",
       "    \n",
       "\n",
       "\n",
       "\n",
       "    <p style=\"margin-bottom: 2.5em; margin-top:-0.5em;\">\n",
       "        <span style=\"background-color: hsl(0, 100.00%, 70.82%); opacity: 0.93\" title=\"-0.492\">i</span><span style=\"opacity: 0.80\">&#x27;</span><span style=\"background-color: hsl(0, 100.00%, 69.58%); opacity: 0.94\" title=\"-0.522\">m</span><span style=\"opacity: 0.80\"> </span><span style=\"background-color: hsl(0, 100.00%, 82.77%); opacity: 0.86\" title=\"-0.232\">sooo</span><span style=\"opacity: 0.80\"> </span><span style=\"background-color: hsl(0, 100.00%, 62.06%); opacity: 0.99\" title=\"-0.716\">lucky</span><span style=\"opacity: 0.80\"> </span><span style=\"background-color: hsl(0, 100.00%, 75.71%); opacity: 0.90\" title=\"-0.379\">to</span><span style=\"opacity: 0.80\"> </span><span style=\"background-color: hsl(0, 100.00%, 73.58%); opacity: 0.91\" title=\"-0.427\">have</span><span style=\"opacity: 0.80\"> </span><span style=\"background-color: hsl(0, 100.00%, 90.27%); opacity: 0.83\" title=\"-0.103\">such</span><span style=\"opacity: 0.80\"> </span><span style=\"background-color: hsl(0, 100.00%, 91.14%); opacity: 0.82\" title=\"-0.090\">good</span><span style=\"opacity: 0.80\"> </span><span style=\"background-color: hsl(0, 100.00%, 84.71%); opacity: 0.85\" title=\"-0.196\">friends</span><span style=\"opacity: 0.80\"> </span><span style=\"background-color: hsl(120, 100.00%, 81.06%); opacity: 0.87\" title=\"0.265\">and</span><span style=\"opacity: 0.80\"> </span><span style=\"background-color: hsl(0, 100.00%, 60.22%); opacity: 1.00\" title=\"-0.766\">family</span><span style=\"opacity: 0.80\">! </span><span style=\"background-color: hsl(0, 100.00%, 60.00%); opacity: 1.00\" title=\"-0.772\">thanks</span><span style=\"opacity: 0.80\"> </span><span style=\"background-color: hsl(0, 100.00%, 83.56%); opacity: 0.86\" title=\"-0.217\">for</span><span style=\"opacity: 0.80\"> </span><span style=\"background-color: hsl(0, 100.00%, 79.42%); opacity: 0.88\" title=\"-0.299\">all</span><span style=\"opacity: 0.80\"> </span><span style=\"background-color: hsl(0, 100.00%, 82.17%); opacity: 0.86\" title=\"-0.244\">the</span><span style=\"opacity: 0.80\"> </span><span style=\"background-color: hsl(0, 100.00%, 88.07%); opacity: 0.84\" title=\"-0.137\">sweet</span><span style=\"opacity: 0.80\"> </span><span style=\"background-color: hsl(0, 100.00%, 69.21%); opacity: 0.94\" title=\"-0.532\">bday</span><span style=\"opacity: 0.80\"> </span><span style=\"background-color: hsl(120, 100.00%, 79.42%); opacity: 0.88\" title=\"0.299\">messages</span><span style=\"opacity: 0.80\">! </span><span style=\"background-color: hsl(120, 100.00%, 73.84%); opacity: 0.91\" title=\"0.421\">lots</span><span style=\"opacity: 0.80\"> </span><span style=\"background-color: hsl(0, 100.00%, 98.23%); opacity: 0.80\" title=\"-0.009\">of</span><span style=\"opacity: 0.80\"> </span><span style=\"background-color: hsl(0, 100.00%, 85.65%); opacity: 0.85\" title=\"-0.179\">love</span><span style=\"opacity: 0.80\"> </span><span style=\"background-color: hsl(120, 100.00%, 69.68%); opacity: 0.93\" title=\"0.520\">to</span><span style=\"opacity: 0.80\"> </span><span style=\"background-color: hsl(120, 100.00%, 73.22%); opacity: 0.91\" title=\"0.435\">you</span><span style=\"opacity: 0.80\"> </span><span style=\"background-color: hsl(120, 100.00%, 81.68%); opacity: 0.87\" title=\"0.253\">all</span><span style=\"opacity: 0.80\">!</span>\n",
       "    </p>\n",
       "\n",
       "\n",
       "    \n",
       "\n",
       "    \n",
       "\n",
       "    \n",
       "\n",
       "    \n",
       "\n",
       "\n",
       "    \n",
       "\n",
       "    \n",
       "\n",
       "    \n",
       "\n",
       "    \n",
       "\n",
       "    \n",
       "\n",
       "    \n",
       "\n",
       "\n",
       "    \n",
       "\n",
       "    \n",
       "\n",
       "    \n",
       "\n",
       "    \n",
       "\n",
       "    \n",
       "\n",
       "    \n",
       "\n",
       "\n",
       "\n"
      ],
      "text/plain": [
       "<IPython.core.display.HTML object>"
      ]
     },
     "execution_count": 21,
     "metadata": {
      "tags": []
     },
     "output_type": "execute_result"
    }
   ],
   "source": [
    "# try the explaination tool of the trained model on a sentence in the test set\n",
    "test_index = 1\n",
    "print(x_test[test_index])\n",
    "print(Y_feat_names, y_test[test_index])\n",
    "predictor.explain(x_test[test_index])"
   ]
  },
  {
   "cell_type": "code",
   "execution_count": null,
   "metadata": {
    "colab": {
     "base_uri": "https://localhost:8080/"
    },
    "executionInfo": {
     "elapsed": 1056,
     "status": "ok",
     "timestamp": 1607601263421,
     "user": {
      "displayName": "Livio Bioglio",
      "photoUrl": "https://lh3.googleusercontent.com/a-/AOh14GiwMdoiTEqY0ghbXy43TVUuBdAFmuLV0G_5FOl6=s64",
      "userId": "15794955782072516856"
     },
     "user_tz": -60
    },
    "id": "K2UTihQPSF_A",
    "outputId": "bee03167-4e3d-481f-b7e1-760e8f299331"
   },
   "outputs": [
    {
     "data": {
      "text/plain": [
       "190"
      ]
     },
     "execution_count": 25,
     "metadata": {
      "tags": []
     },
     "output_type": "execute_result"
    }
   ],
   "source": [
    "# get the set of uncertain sentences\n",
    "data_uncertain = get_data(dataset_path, lim=2)\n",
    "data_uncertain = data_uncertain[data_uncertain[\"class\"] == \"Non so\"][\"text\"].values\n",
    "len(data_uncertain)"
   ]
  },
  {
   "cell_type": "code",
   "execution_count": null,
   "metadata": {
    "colab": {
     "base_uri": "https://localhost:8080/"
    },
    "executionInfo": {
     "elapsed": 2168,
     "status": "ok",
     "timestamp": 1607601266185,
     "user": {
      "displayName": "Livio Bioglio",
      "photoUrl": "https://lh3.googleusercontent.com/a-/AOh14GiwMdoiTEqY0ghbXy43TVUuBdAFmuLV0G_5FOl6=s64",
      "userId": "15794955782072516856"
     },
     "user_tz": -60
    },
    "id": "8-8pwOafSF_B",
    "outputId": "8268b951-6ccf-4d4c-e406-aaff53e9a121"
   },
   "outputs": [
    {
     "name": "stdout",
     "output_type": "stream",
     "text": [
      "www.thejokerblogs.com -> ns (ns: 0.9943469 sens: 0.005653058)\n",
      "is in love with *PROPNAME*. -> sens (ns: 0.06547794 sens: 0.93452203)\n",
      "is in love. With *PROPNAME*. -> sens (ns: 0.048246436 sens: 0.9517535)\n",
      "is dying!!! HEEEEELPPPPP!!!!! -> sens (ns: 0.35075843 sens: 0.64924157)\n",
      "WOW!!! I just spent 20 minutes reading just this one strip... [link] -> ns (ns: 0.9876823 sens: 0.012317673)\n",
      "acquired 6 brothers and sisters today... -> sens (ns: 0.26631966 sens: 0.7336803)\n",
      "is trying to fight it off -> ns (ns: 0.92517084 sens: 0.0748292)\n",
      "is still patiently waiting for 9 -> ns (ns: 0.962825 sens: 0.037174996)\n",
      "HOLY. FUCK. [link] -> ns (ns: 0.9625972 sens: 0.03740287)\n",
      "thanks everyone, but i decided to get younger this year... :) -> ns (ns: 0.6395323 sens: 0.36046767)\n",
      "bar... -> ns (ns: 0.7477952 sens: 0.25220484)\n",
      "thinks it's funny that only his white best friend remembered *PROPNAME*. -> sens (ns: 0.4400935 sens: 0.55990654)\n",
      "has heard *PROPNAME*'s tragic call to keep my shit together and live life properly. Love those you have and avoid drama. -> ns (ns: 0.6405362 sens: 0.35946378)\n",
      "just saved a white boy's life today. -> ns (ns: 0.81693476 sens: 0.18306525)\n",
      "only 2 more days!!!!!! -> ns (ns: 0.98192906 sens: 0.018070934)\n",
      "RON PAUL FOR NORWAY 2012!!! -> sens (ns: 0.19100577 sens: 0.8089943)\n",
      "ONE. -> ns (ns: 0.9625962 sens: 0.03740381)\n",
      "*PROPNAME* Fails. -> ns (ns: 0.50011235 sens: 0.4998876)\n",
      "Back from a Frances! -> ns (ns: 0.91222554 sens: 0.08777446)\n",
      "[link] Last line especially Funny. -> ns (ns: 0.9858906 sens: 0.014109367)\n"
     ]
    }
   ],
   "source": [
    "# use the trained model on few sentences in the set of uncertain sentences\n",
    "for input_text in data_uncertain[:20]:\n",
    "    predict_class(input_text, predictor, Y_feat_names)\n"
   ]
  },
  {
   "cell_type": "markdown",
   "metadata": {
    "id": "traVV-3GSF_B"
   },
   "source": [
    "## STEP 8: Load and reuse the Model\n"
   ]
  },
  {
   "cell_type": "code",
   "execution_count": null,
   "metadata": {
    "id": "vlG111HlSF_B"
   },
   "outputs": [],
   "source": [
    "# reload the predictor\n",
    "# reloaded_predictor = ktrain.load_predictor(\"/content/drive/MyDrive/Colab Notebooks/results/sensitag_predictor\")\n",
    "# make a prediction on the same document to verify it still works\n",
    "# reloaded_predictor.predict(x_test[0])\n"
   ]
  },
  {
   "cell_type": "markdown",
   "metadata": {
    "id": "1zelDxC_pkEO"
   },
   "source": [
    "# Test models on whispers\n"
   ]
  },
  {
   "cell_type": "code",
   "execution_count": null,
   "metadata": {
    "colab": {
     "base_uri": "https://localhost:8080/"
    },
    "executionInfo": {
     "elapsed": 822,
     "status": "ok",
     "timestamp": 1610038374199,
     "user": {
      "displayName": "Livio Bioglio",
      "photoUrl": "https://lh3.googleusercontent.com/a-/AOh14GiwMdoiTEqY0ghbXy43TVUuBdAFmuLV0G_5FOl6=s64",
      "userId": "15794955782072516856"
     },
     "user_tz": -60
    },
    "id": "jCZnPfMpphge",
    "outputId": "fc85c9a1-dce2-4fd8-9b7a-fcb730861ce6"
   },
   "outputs": [
    {
     "name": "stdout",
     "output_type": "stream",
     "text": [
      "DataSet:\n",
      "                                                 text class\n",
      "0  Column's all done for another week. Shaheen Ja...    ns\n",
      "1  OMG i'm going to pass out and i've been left a...    ns\n",
      "2  blown through so many red lights mind not on s...  sens\n",
      "3           Walking up to the library. I smell rain.    ns\n",
      "4  Erica Jong’s 20 Rules for Writers http://ow.ly...    ns\n"
     ]
    }
   ],
   "source": [
    "from utils import plot_confusion_matrix\n",
    "from sklearn.metrics import precision_score, recall_score, f1_score\n",
    "\n",
    "def get_predictions_df_BERT(predictor, X, Y):\n",
    "    Y_pred_m = []\n",
    "    for text in X:\n",
    "        Y_pred_m.append(predictor.predict(text))\n",
    "    df_test = pd.DataFrame({'true': Y, 'pred': Y_pred_m})\n",
    "    #df_test['true'] = df_test['true'].apply(lambda x: np.argmax(x))\n",
    "    return df_test\n",
    "\n",
    "def print_pre_met(df_test, Y_feat_names):\n",
    "    prec = precision_score(df_test[\"true\"].tolist(), df_test[\"pred\"].tolist(), average=None)\n",
    "    rec = recall_score(df_test[\"true\"].tolist(), df_test[\"pred\"].tolist(), average=None)\n",
    "    f1 = f1_score(df_test[\"true\"].tolist(), df_test[\"pred\"].tolist(), average=None)\n",
    "    f1_macro = f1_score(df_test[\"true\"].tolist(), df_test[\"pred\"].tolist(), average=\"macro\")\n",
    "    f1_micro = f1_score(df_test[\"true\"].tolist(), df_test[\"pred\"].tolist(), average=\"micro\")\n",
    "    print(\"\\tprecision    recall  f1-score\\n\")\n",
    "    for i in range(2):\n",
    "    #    print(Y_feat_names[i]+\"\\t     \"+str(round(prec[i],2))+\"\\t  \"+str(round(rec[i],2))+\"\\t    \"+str(round(f1[i],2)))\n",
    "        print(Y_feat_names[i]+\"\\t\"+str(\"{:9.2f}\".format(prec[i]))+str(\"{:10.2f}\".format(rec[i]))+str(\"{:10.2f}\".format(f1[i])))\n",
    "    print(\"\\nf1-macro\\t\"+str(\"{:21.2f}\".format(f1_macro)))\n",
    "    print(\"f1-micro\\t\"+str(\"{:21.2f}\".format(f1_micro)))\n",
    "    return\n",
    "\n",
    "data_test = pd.read_csv(main_path+\"data/sample_ann2_01.csv\").dropna()\n",
    "print('DataSet:\\n', data_test.head())\n"
   ]
  },
  {
   "cell_type": "markdown",
   "metadata": {
    "id": "NoRwnd7OqI-y"
   },
   "source": [
    "## 2 Annotators"
   ]
  },
  {
   "cell_type": "code",
   "execution_count": null,
   "metadata": {
    "id": "DAezhM12phga"
   },
   "outputs": [],
   "source": [
    "# reload the predictor\n",
    "predictor = ktrain.load_predictor(\"/content/drive/MyDrive/Colab Notebooks/results/sensitag_BERT_ann2\")\n",
    "# make a prediction on the same document to verify it still works\n",
    "# predictor.predict(x_test[0])\n"
   ]
  },
  {
   "cell_type": "code",
   "execution_count": null,
   "metadata": {
    "colab": {
     "base_uri": "https://localhost:8080/",
     "height": 269
    },
    "executionInfo": {
     "elapsed": 646243,
     "status": "ok",
     "timestamp": 1610036357885,
     "user": {
      "displayName": "Livio Bioglio",
      "photoUrl": "https://lh3.googleusercontent.com/a-/AOh14GiwMdoiTEqY0ghbXy43TVUuBdAFmuLV0G_5FOl6=s64",
      "userId": "15794955782072516856"
     },
     "user_tz": -60
    },
    "id": "69ktxnedphgj",
    "outputId": "4c16d0dc-0829-4b53-aa1f-cffe920e3a4b"
   },
   "outputs": [
    {
     "data": {
      "image/png": "[encoded data removed]",
      "text/plain": [
       "<Figure size 432x288 with 2 Axes>"
      ]
     },
     "metadata": {
      "needs_background": "light",
      "tags": []
     },
     "output_type": "display_data"
    }
   ],
   "source": [
    "df_test_2 = get_predictions_df_BERT(predictor, data_test[\"text\"].tolist(), data_test[\"class\"].tolist())\n",
    "plot_confusion_matrix(df_test_2, normalize=True, labels=Y_feat_names)\n"
   ]
  },
  {
   "cell_type": "code",
   "execution_count": null,
   "metadata": {
    "colab": {
     "base_uri": "https://localhost:8080/"
    },
    "executionInfo": {
     "elapsed": 551,
     "status": "ok",
     "timestamp": 1610038193295,
     "user": {
      "displayName": "Livio Bioglio",
      "photoUrl": "https://lh3.googleusercontent.com/a-/AOh14GiwMdoiTEqY0ghbXy43TVUuBdAFmuLV0G_5FOl6=s64",
      "userId": "15794955782072516856"
     },
     "user_tz": -60
    },
    "id": "9HdMZyv5V9vT",
    "outputId": "12029d12-13ae-4291-ff42-cb40232354b6"
   },
   "outputs": [
    {
     "name": "stdout",
     "output_type": "stream",
     "text": [
      "\tprecision    recall  f1-score\n",
      "\n",
      "ns\t     0.65      0.83      0.73\n",
      "sens\t     0.50      0.28      0.36\n",
      "\n",
      "f1-macro\t                 0.55\n",
      "f1-micro\t                 0.62\n"
     ]
    }
   ],
   "source": [
    "print_pre_met(df_test_2, Y_feat_names)"
   ]
  },
  {
   "cell_type": "markdown",
   "metadata": {
    "id": "w6OahLpJwcwO"
   },
   "source": [
    "## 3 Annotators"
   ]
  },
  {
   "cell_type": "code",
   "execution_count": null,
   "metadata": {
    "id": "UTrNdnqUp6Gb"
   },
   "outputs": [],
   "source": [
    "# reload the predictor\n",
    "predictor = ktrain.load_predictor(\"/content/drive/MyDrive/Colab Notebooks/results/sensitag_BERT_ann3\")"
   ]
  },
  {
   "cell_type": "code",
   "execution_count": null,
   "metadata": {
    "colab": {
     "base_uri": "https://localhost:8080/",
     "height": 269
    },
    "executionInfo": {
     "elapsed": 663009,
     "status": "ok",
     "timestamp": 1610039042944,
     "user": {
      "displayName": "Livio Bioglio",
      "photoUrl": "https://lh3.googleusercontent.com/a-/AOh14GiwMdoiTEqY0ghbXy43TVUuBdAFmuLV0G_5FOl6=s64",
      "userId": "15794955782072516856"
     },
     "user_tz": -60
    },
    "id": "FFGjWBieraZh",
    "outputId": "9b936bb9-563f-42a5-8cbc-feeaa6a560da"
   },
   "outputs": [
    {
     "data": {
      "image/png": "[encoded data removed]",
      "text/plain": [
       "<Figure size 432x288 with 2 Axes>"
      ]
     },
     "metadata": {
      "needs_background": "light",
      "tags": []
     },
     "output_type": "display_data"
    }
   ],
   "source": [
    "df_test_2 = get_predictions_df_BERT(predictor, data_test[\"text\"].tolist(), data_test[\"class\"].tolist())\n",
    "plot_confusion_matrix(df_test_2, normalize=True, labels=Y_feat_names)\n"
   ]
  },
  {
   "cell_type": "code",
   "execution_count": null,
   "metadata": {
    "colab": {
     "base_uri": "https://localhost:8080/"
    },
    "executionInfo": {
     "elapsed": 661876,
     "status": "ok",
     "timestamp": 1610039042947,
     "user": {
      "displayName": "Livio Bioglio",
      "photoUrl": "https://lh3.googleusercontent.com/a-/AOh14GiwMdoiTEqY0ghbXy43TVUuBdAFmuLV0G_5FOl6=s64",
      "userId": "15794955782072516856"
     },
     "user_tz": -60
    },
    "id": "3ytAXTDMw5f0",
    "outputId": "b3abc7f4-1f23-4b76-b4d0-cb686008fd35"
   },
   "outputs": [
    {
     "name": "stdout",
     "output_type": "stream",
     "text": [
      "\tprecision    recall  f1-score\n",
      "\n",
      "ns\t     0.64      0.82      0.72\n",
      "sens\t     0.45      0.24      0.31\n",
      "\n",
      "f1-macro\t                 0.51\n",
      "f1-micro\t                 0.60\n"
     ]
    }
   ],
   "source": [
    "print_pre_met(df_test_2, Y_feat_names)"
   ]
  },
  {
   "cell_type": "code",
   "execution_count": null,
   "metadata": {
    "id": "JrqW2pgkxAnb"
   },
   "outputs": [],
   "source": []
  }
 ],
 "metadata": {
  "accelerator": "GPU",
  "colab": {
   "collapsed_sections": [],
   "name": "00 - Sensitag-BERT - our.ipynb",
   "provenance": [
    {
     "file_id": "1AH3fkKiEqBpVpO5ua00scp7zcHs5IDLK",
     "timestamp": 1607336339118
    },
    {
     "file_id": "1ixOZTKLz4aAa-MtC6dy_sAvc9HujQmHN",
     "timestamp": 1571236047769
    }
   ]
  },
  "kernelspec": {
   "display_name": "Python 3",
   "language": "python",
   "name": "python3"
  },
  "language_info": {
   "codemirror_mode": {
    "name": "ipython",
    "version": 3
   },
   "file_extension": ".py",
   "mimetype": "text/x-python",
   "name": "python",
   "nbconvert_exporter": "python",
   "pygments_lexer": "ipython3",
   "version": "3.7.6"
  }
 },
 "nbformat": 4,
 "nbformat_minor": 1
}
